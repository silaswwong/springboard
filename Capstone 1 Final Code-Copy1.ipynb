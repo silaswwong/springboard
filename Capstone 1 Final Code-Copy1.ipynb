{
 "cells": [
  {
   "cell_type": "markdown",
   "metadata": {},
   "source": [
    "## Data Wrangling & Cleaning"
   ]
  },
  {
   "cell_type": "code",
   "execution_count": 1,
   "metadata": {
    "collapsed": true
   },
   "outputs": [],
   "source": [
    "import pandas as pd\n",
    "file = 'Capstone1Data.xlsx'\n",
    "data = pd.ExcelFile(file)"
   ]
  },
  {
   "cell_type": "code",
   "execution_count": 2,
   "metadata": {},
   "outputs": [
    {
     "name": "stdout",
     "output_type": "stream",
     "text": [
      "['Read_Me', 'Variable List', 'Supplemental Data - County', 'Supplemental Data - State', 'ACCESS', 'ASSISTANCE', 'HEALTH', 'INSECURITY', 'LOCAL', 'PRICES_TAXES', 'RESTAURANTS', 'STORES', 'SOCIOECONOMIC']\n"
     ]
    }
   ],
   "source": [
    "sheets = data.sheet_names\n",
    "print(sheets)"
   ]
  },
  {
   "cell_type": "code",
   "execution_count": 3,
   "metadata": {
    "collapsed": true
   },
   "outputs": [],
   "source": [
    "access = data.parse('ACCESS')\n",
    "assistance = data.parse('ASSISTANCE')\n",
    "health = data.parse('HEALTH')\n",
    "insecurity = data.parse('INSECURITY')\n",
    "local = data.parse('LOCAL')\n",
    "prices = data.parse('PRICES_TAXES')\n",
    "restaurants = data.parse('RESTAURANTS')\n",
    "stores = data.parse('STORES')\n",
    "socioeconomic = data.parse('SOCIOECONOMIC')"
   ]
  },
  {
   "cell_type": "code",
   "execution_count": 4,
   "metadata": {},
   "outputs": [
    {
     "name": "stdout",
     "output_type": "stream",
     "text": [
      "<class 'pandas.core.frame.DataFrame'>\n",
      "RangeIndex: 3256 entries, 0 to 3255\n",
      "Data columns (total 13 columns):\n",
      "FIPS                     3256 non-null int64\n",
      "State                    3256 non-null object\n",
      "County                   3256 non-null object\n",
      "LACCESS_POP10            3144 non-null float64\n",
      "PCT_LACCESS_POP10        3144 non-null float64\n",
      "LACCESS_LOWI10           3144 non-null float64\n",
      "PCT_LACCESS_LOWI10       3144 non-null float64\n",
      "LACCESS_CHILD10          3144 non-null float64\n",
      "PCT_LACCESS_CHILD10      3144 non-null float64\n",
      "LACCESS_SENIORS10        3144 non-null float64\n",
      "PCT_LACCESS_SENIORS10    3144 non-null float64\n",
      "LACCESS_HHNV10           3144 non-null float64\n",
      "PCT_LACCESS_HHNV10       3144 non-null float64\n",
      "dtypes: float64(10), int64(1), object(2)\n",
      "memory usage: 330.8+ KB\n"
     ]
    }
   ],
   "source": [
    "access.info()"
   ]
  },
  {
   "cell_type": "code",
   "execution_count": 5,
   "metadata": {
    "collapsed": true
   },
   "outputs": [],
   "source": [
    "#drop the counts bc have percentages, don't want to double represent the data\n",
    "access = access.drop(['LACCESS_POP10','LACCESS_LOWI10','LACCESS_CHILD10','LACCESS_SENIORS10','LACCESS_HHNV10'],axis=1)"
   ]
  },
  {
   "cell_type": "code",
   "execution_count": 6,
   "metadata": {},
   "outputs": [
    {
     "name": "stdout",
     "output_type": "stream",
     "text": [
      "<class 'pandas.core.frame.DataFrame'>\n",
      "Int64Index: 3255 entries, 0 to 3255\n",
      "Data columns (total 8 columns):\n",
      "FIPS                     3255 non-null int64\n",
      "State                    3255 non-null object\n",
      "County                   3255 non-null object\n",
      "PCT_LACCESS_POP10        3143 non-null float64\n",
      "PCT_LACCESS_LOWI10       3143 non-null float64\n",
      "PCT_LACCESS_CHILD10      3143 non-null float64\n",
      "PCT_LACCESS_SENIORS10    3143 non-null float64\n",
      "PCT_LACCESS_HHNV10       3143 non-null float64\n",
      "dtypes: float64(5), int64(1), object(2)\n",
      "memory usage: 228.9+ KB\n"
     ]
    }
   ],
   "source": [
    "access = access.drop_duplicates()\n",
    "access.info()"
   ]
  },
  {
   "cell_type": "code",
   "execution_count": 7,
   "metadata": {},
   "outputs": [
    {
     "name": "stdout",
     "output_type": "stream",
     "text": [
      "<class 'pandas.core.frame.DataFrame'>\n",
      "RangeIndex: 3143 entries, 0 to 3142\n",
      "Data columns (total 55 columns):\n",
      "FIPS                       3143 non-null int64\n",
      "State                      3143 non-null object\n",
      "County                     3143 non-null object\n",
      "REDEMP_SNAPS08             2815 non-null float64\n",
      "REDEMP_SNAPS12             2901 non-null float64\n",
      "PCH_REDEMP_SNAPS_08_12     2801 non-null float64\n",
      "PCT_SNAP09                 3143 non-null float64\n",
      "PCT_SNAP14                 3143 non-null float64\n",
      "PCH_SNAP_09_14             3143 non-null float64\n",
      "PC_SNAPBEN08               3132 non-null float64\n",
      "PC_SNAPBEN10               2753 non-null float64\n",
      "PCH_PC_SNAPBEN_08_10       2752 non-null float64\n",
      "SNAP_PART_RATE08           3143 non-null float64\n",
      "SNAP_PART_RATE10           3143 non-null float64\n",
      "SNAP_OAPP00                3143 non-null int64\n",
      "SNAP_OAPP05                3143 non-null float64\n",
      "SNAP_OAPP10                3143 non-null float64\n",
      "SNAP_FACEWAIVER00          3143 non-null int64\n",
      "SNAP_FACEWAIVER05          3143 non-null float64\n",
      "SNAP_FACEWAIVER10          3143 non-null float64\n",
      "SNAP_VEHEXCL00             3143 non-null int64\n",
      "SNAP_VEHEXCL05             3143 non-null int64\n",
      "SNAP_VEHEXCL10             3143 non-null int64\n",
      "SNAP_BBCE00                3143 non-null int64\n",
      "SNAP_BBCE05                3143 non-null int64\n",
      "SNAP_BBCE10                3143 non-null int64\n",
      "SNAP_REPORTSIMPLE00        3143 non-null int64\n",
      "SNAP_REPORTSIMPLE05        3143 non-null int64\n",
      "SNAP_REPORTSIMPLE10        3143 non-null int64\n",
      "PCT_NSLP09                 3143 non-null float64\n",
      "PCT_NSLP14                 3143 non-null float64\n",
      "PCH_NSLP_09_14             3143 non-null float64\n",
      "PCT_FREE_LUNCH06           3131 non-null float64\n",
      "PCT_FREE_LUNCH10           3125 non-null float64\n",
      "PCT_REDUCED_LUNCH06        3129 non-null float64\n",
      "PCT_REDUCED_LUNCH10        3125 non-null float64\n",
      "PCT_SBP09                  3143 non-null float64\n",
      "PCT_SBP14                  3143 non-null float64\n",
      "PCH_SBP_09_14              3143 non-null float64\n",
      "PCT_SFSP09                 3143 non-null float64\n",
      "PCT_SFSP14                 3143 non-null float64\n",
      "PCH_SFSP_09_14             3143 non-null float64\n",
      "PC_WIC_REDEMP08            2079 non-null float64\n",
      "PC_WIC_REDEMP12            2004 non-null float64\n",
      "PCH_PC_WIC_REDEMP_08_12    1942 non-null float64\n",
      "REDEMP_WICS08              2079 non-null float64\n",
      "REDEMP_WICS12              2004 non-null float64\n",
      "PCH_REDEMP_WICS_08_12      1942 non-null float64\n",
      "PCT_WIC09                  3143 non-null float64\n",
      "PCT_WIC14                  3143 non-null float64\n",
      "PCH_WIC_09_14              3143 non-null float64\n",
      "PCT_CACFP09                3143 non-null float64\n",
      "PCT_CACFP14                3143 non-null float64\n",
      "PCH_CACFP_09_14            3143 non-null float64\n",
      "FDPIR12                    3143 non-null int64\n",
      "dtypes: float64(40), int64(13), object(2)\n",
      "memory usage: 1.3+ MB\n"
     ]
    }
   ],
   "source": [
    "assistance.info()"
   ]
  },
  {
   "cell_type": "code",
   "execution_count": 8,
   "metadata": {
    "collapsed": true
   },
   "outputs": [],
   "source": [
    "#drop calculated columns % change, and data after 2010\n",
    "assistance = assistance.drop(['PCH_CACFP_09_14','PCH_WIC_09_14','PCH_REDEMP_WICS_08_12','PCH_PC_WIC_REDEMP_08_12','PCH_SFSP_09_14','PCH_SBP_09_14','PCH_NSLP_09_14','PCH_PC_SNAPBEN_08_10','PCH_SNAP_09_14','PCH_REDEMP_SNAPS_08_12','FDPIR12','PCT_CACFP14','PCT_WIC14','REDEMP_WICS12','PC_WIC_REDEMP12','PCT_SFSP14','PCT_SBP14','PCT_NSLP14','REDEMP_SNAPS12'],axis=1)"
   ]
  },
  {
   "cell_type": "code",
   "execution_count": 10,
   "metadata": {
    "collapsed": true
   },
   "outputs": [],
   "source": [
    "#drop columns with many missing values\n",
    "assistance = assistance.drop(['PC_WIC_REDEMP08','REDEMP_WICS08'],axis=1)"
   ]
  },
  {
   "cell_type": "code",
   "execution_count": 11,
   "metadata": {
    "collapsed": true
   },
   "outputs": [],
   "source": [
    "assistance = assistance.drop_duplicates()"
   ]
  },
  {
   "cell_type": "code",
   "execution_count": 12,
   "metadata": {},
   "outputs": [
    {
     "name": "stdout",
     "output_type": "stream",
     "text": [
      "<class 'pandas.core.frame.DataFrame'>\n",
      "RangeIndex: 3143 entries, 0 to 3142\n",
      "Data columns (total 19 columns):\n",
      "FIPS                     3143 non-null int64\n",
      "State                    3143 non-null object\n",
      "County                   3143 non-null object\n",
      "PCT_DIABETES_ADULTS09    3138 non-null float64\n",
      "PCT_DIABETES_ADULTS10    3138 non-null float64\n",
      "PCT_OBESE_ADULTS09       3138 non-null float64\n",
      "PCT_OBESE_ADULTS10       3138 non-null float64\n",
      "PCT_OBESE_ADULTS13       3138 non-null float64\n",
      "PCT_OBESE_CHILD08        2691 non-null float64\n",
      "PCT_OBESE_CHILD11        2714 non-null float64\n",
      "PCH_OBESE_CHILD_08_11    2636 non-null float64\n",
      "PCT_HSPA09               2503 non-null float64\n",
      "RECFAC07                 3138 non-null float64\n",
      "RECFAC12                 3138 non-null float64\n",
      "PCH_RECFAC_07_12         3014 non-null float64\n",
      "RECFACPTH07              3138 non-null float64\n",
      "RECFACPTH12              3138 non-null float64\n",
      "PCH_RECFACPTH_07_12      3014 non-null float64\n",
      "NATAMEN                  3108 non-null float64\n",
      "dtypes: float64(16), int64(1), object(2)\n",
      "memory usage: 466.6+ KB\n"
     ]
    }
   ],
   "source": [
    "health.info()"
   ]
  },
  {
   "cell_type": "code",
   "execution_count": 13,
   "metadata": {
    "collapsed": true
   },
   "outputs": [],
   "source": [
    "health = health.drop(['PCH_RECFACPTH_07_12','PCH_RECFAC_07_12','PCH_OBESE_CHILD_08_11'],axis=1)"
   ]
  },
  {
   "cell_type": "code",
   "execution_count": 14,
   "metadata": {
    "collapsed": true
   },
   "outputs": [],
   "source": [
    "#drop columns with many missing values\n",
    "health = health.drop(['PCT_OBESE_CHILD08','PCT_OBESE_CHILD11','PCT_HSPA09'],axis=1)"
   ]
  },
  {
   "cell_type": "code",
   "execution_count": 15,
   "metadata": {
    "collapsed": true
   },
   "outputs": [],
   "source": [
    "health = health.drop_duplicates()"
   ]
  },
  {
   "cell_type": "code",
   "execution_count": 16,
   "metadata": {},
   "outputs": [
    {
     "name": "stdout",
     "output_type": "stream",
     "text": [
      "<class 'pandas.core.frame.DataFrame'>\n",
      "RangeIndex: 3256 entries, 0 to 3255\n",
      "Data columns (total 15 columns):\n",
      "FIPS                     3256 non-null int64\n",
      "State                    3256 non-null object\n",
      "County                   3256 non-null object\n",
      "FOODINSEC_00_02          3144 non-null float64\n",
      "FOODINSEC_07_09          3144 non-null float64\n",
      "FOODINSEC_10_12          3144 non-null float64\n",
      "CH_FOODINSEC_02_12       3144 non-null float64\n",
      "CH_FOODINSEC_09_12       3144 non-null float64\n",
      "VLFOODSEC_00_02          3144 non-null float64\n",
      "VLFOODSEC_07_09          3144 non-null float64\n",
      "VLFOODSEC_10_12          3144 non-null float64\n",
      "CH_VLFOODSEC_02_12       3144 non-null float64\n",
      "CH_VLFOODSEC_09_12       3144 non-null float64\n",
      "FOODINSEC_CHILD_01_07    3144 non-null float64\n",
      "FOODINSEC_CHILD_03_11    3144 non-null float64\n",
      "dtypes: float64(12), int64(1), object(2)\n",
      "memory usage: 381.6+ KB\n"
     ]
    }
   ],
   "source": [
    "insecurity.info()"
   ]
  },
  {
   "cell_type": "code",
   "execution_count": 17,
   "metadata": {
    "collapsed": true
   },
   "outputs": [],
   "source": [
    "#drop calculated columns %changes\n",
    "insecurity = insecurity.drop(['CH_FOODINSEC_02_12','CH_FOODINSEC_09_12','CH_VLFOODSEC_02_12','CH_VLFOODSEC_09_12'],axis=1)"
   ]
  },
  {
   "cell_type": "code",
   "execution_count": 18,
   "metadata": {
    "collapsed": true
   },
   "outputs": [],
   "source": [
    "insecurity = insecurity.drop_duplicates()"
   ]
  },
  {
   "cell_type": "code",
   "execution_count": 19,
   "metadata": {
    "scrolled": false
   },
   "outputs": [
    {
     "name": "stdout",
     "output_type": "stream",
     "text": [
      "<class 'pandas.core.frame.DataFrame'>\n",
      "RangeIndex: 3255 entries, 0 to 3254\n",
      "Data columns (total 49 columns):\n",
      "FIPS                    3255 non-null int64\n",
      "State                   3255 non-null object\n",
      "County                  3255 non-null object\n",
      "DIRSALES_FARMS07        3078 non-null float64\n",
      "PCT_LOCLFARM07          3021 non-null float64\n",
      "PCT_LOCLSALE07          2750 non-null float64\n",
      "DIRSALES07              2852 non-null float64\n",
      "PC_DIRSALES07           2852 non-null float64\n",
      "FMRKT09                 3141 non-null float64\n",
      "FMRKT13                 3142 non-null float64\n",
      "PCH_FMRKT_09_13         2659 non-null float64\n",
      "FMRKTPTH09              3137 non-null float64\n",
      "FMRKTPTH13              3138 non-null float64\n",
      "PCH_FMRKTPTH_09_13      2655 non-null float64\n",
      "FMRKT_SNAP13            2181 non-null float64\n",
      "PCT_FMRKT_SNAP13        2181 non-null float64\n",
      "FMRKT_WIC13             2181 non-null float64\n",
      "PCT_FMRKT_WIC13         2181 non-null float64\n",
      "FMRKT_WICCASH13         2181 non-null float64\n",
      "PCT_FMRKT_WICCASH13     2181 non-null float64\n",
      "FMRKT_SFMNP13           2181 non-null float64\n",
      "PCT_FMRKT_SFMNP13       2181 non-null float64\n",
      "FMRKT_FRVEG13           2181 non-null float64\n",
      "PCT_FRMKT_FRVEG13       2181 non-null float64\n",
      "FMRKT_ANMLPROD13        2181 non-null float64\n",
      "PCT_FRMKT_ANMLPROD13    2181 non-null float64\n",
      "FMRKT_OTHER13           2181 non-null float64\n",
      "PCT_FMRKT_OTHER13       2181 non-null float64\n",
      "VEG_FARMS07             3077 non-null float64\n",
      "VEG_ACRES07             2530 non-null float64\n",
      "VEG_ACRESPTH07          2529 non-null float64\n",
      "FRESHVEG_FARMS07        3077 non-null float64\n",
      "FRESHVEG_ACRES07        1840 non-null float64\n",
      "FRESHVEG_ACRESPTH07     1840 non-null float64\n",
      "ORCHARD_FARMS07         3077 non-null float64\n",
      "ORCHARD_ACRES07         2592 non-null float64\n",
      "ORCHARD_ACRESPTH07      2592 non-null float64\n",
      "BERRY_FARMS07           3077 non-null float64\n",
      "BERRY_ACRES07           2302 non-null float64\n",
      "BERRY_ACRESPTH07        2302 non-null float64\n",
      "SLHOUSE07               3142 non-null float64\n",
      "GHVEG_FARMS07           3077 non-null float64\n",
      "GHVEG_SQFT07            2297 non-null float64\n",
      "GHVEG_SQFTPTH07         2297 non-null float64\n",
      "FOODHUB12               3142 non-null float64\n",
      "CSA07                   3142 non-null float64\n",
      "AGRITRSM_OPS07          3142 non-null float64\n",
      "AGRITRSM_RCT07          1521 non-null float64\n",
      "FARM_TO_SCHOOL          3142 non-null float64\n",
      "dtypes: float64(46), int64(1), object(2)\n",
      "memory usage: 1.2+ MB\n"
     ]
    }
   ],
   "source": [
    "local.info()"
   ]
  },
  {
   "cell_type": "markdown",
   "metadata": {},
   "source": [
    "The local sheet has too many columns with missing values. I decided to not include any of the data in this sheet. (I will not merge this sheet with the rest of the dataframe)"
   ]
  },
  {
   "cell_type": "code",
   "execution_count": 20,
   "metadata": {},
   "outputs": [
    {
     "name": "stdout",
     "output_type": "stream",
     "text": [
      "<class 'pandas.core.frame.DataFrame'>\n",
      "RangeIndex: 3256 entries, 0 to 3255\n",
      "Data columns (total 11 columns):\n",
      "FIPS                 3256 non-null int64\n",
      "State                3256 non-null object\n",
      "County               3256 non-null object\n",
      "MILK_PRICE10         3110 non-null float64\n",
      "SODA_PRICE10         3110 non-null float64\n",
      "MILK_SODA_PRICE10    3110 non-null float64\n",
      "SODATAX_STORES11     3144 non-null float64\n",
      "SODATAX_VENDM11      3144 non-null float64\n",
      "CHIPSTAX_STORES11    3144 non-null float64\n",
      "CHIPSTAX_VENDM11     3144 non-null float64\n",
      "FOOD_TAX11           3144 non-null float64\n",
      "dtypes: float64(8), int64(1), object(2)\n",
      "memory usage: 279.9+ KB\n"
     ]
    }
   ],
   "source": [
    "prices.info()"
   ]
  },
  {
   "cell_type": "code",
   "execution_count": 21,
   "metadata": {
    "collapsed": true
   },
   "outputs": [],
   "source": [
    "#drop calculated column\n",
    "prices = prices.drop(['MILK_SODA_PRICE10'],axis=1)"
   ]
  },
  {
   "cell_type": "code",
   "execution_count": 22,
   "metadata": {
    "collapsed": true
   },
   "outputs": [],
   "source": [
    "prices = prices.drop_duplicates()"
   ]
  },
  {
   "cell_type": "code",
   "execution_count": 23,
   "metadata": {},
   "outputs": [
    {
     "name": "stdout",
     "output_type": "stream",
     "text": [
      "<class 'pandas.core.frame.DataFrame'>\n",
      "RangeIndex: 3143 entries, 0 to 3142\n",
      "Data columns (total 19 columns):\n",
      "FIPS                3143 non-null int64\n",
      "State               3143 non-null object\n",
      "County              3143 non-null object\n",
      "FFR07               3138 non-null float64\n",
      "FFR12               3143 non-null int64\n",
      "PCH_FFR_07_12       3100 non-null float64\n",
      "FFRPTH07            3138 non-null float64\n",
      "FFRPTH12            3143 non-null float64\n",
      "PCH_FFRPTH_07_12    3143 non-null float64\n",
      "FSR07               3138 non-null float64\n",
      "FSR12               3143 non-null int64\n",
      "PCH_FSR_07_12       3115 non-null float64\n",
      "FSRPTH07            3138 non-null float64\n",
      "FSRPTH12            3143 non-null float64\n",
      "PCH_FSRPTH_07_12    3143 non-null float64\n",
      "PC_FFRSALES02       3127 non-null float64\n",
      "PC_FFRSALES07       3143 non-null float64\n",
      "PC_FSRSALES02       3127 non-null float64\n",
      "PC_FSRSALES07       3143 non-null float64\n",
      "dtypes: float64(14), int64(3), object(2)\n",
      "memory usage: 466.6+ KB\n"
     ]
    }
   ],
   "source": [
    "restaurants.info()"
   ]
  },
  {
   "cell_type": "code",
   "execution_count": 24,
   "metadata": {
    "collapsed": true
   },
   "outputs": [],
   "source": [
    "#drop counts and %changes\n",
    "restaurants = restaurants.drop(['FFR07','FFR12','PCH_FFR_07_12','PCH_FFRPTH_07_12','FSR07','FSR12','PCH_FSRPTH_07_12'],axis=1)"
   ]
  },
  {
   "cell_type": "code",
   "execution_count": 25,
   "metadata": {
    "collapsed": true
   },
   "outputs": [],
   "source": [
    "restaurants = restaurants.drop_duplicates()"
   ]
  },
  {
   "cell_type": "code",
   "execution_count": 26,
   "metadata": {},
   "outputs": [
    {
     "name": "stdout",
     "output_type": "stream",
     "text": [
      "<class 'pandas.core.frame.DataFrame'>\n",
      "RangeIndex: 3221 entries, 0 to 3220\n",
      "Data columns (total 39 columns):\n",
      "FIPS                   3221 non-null int64\n",
      "State                  3221 non-null object\n",
      "County                 3143 non-null object\n",
      "GROC07                 3143 non-null float64\n",
      "GROC12                 3143 non-null float64\n",
      "PCH_GROC_07_12         3116 non-null float64\n",
      "GROCPTH07              3143 non-null float64\n",
      "GROCPTH12              3143 non-null float64\n",
      "PCH_GROCPTH_07_12      3121 non-null float64\n",
      "SUPERC07               3143 non-null float64\n",
      "SUPERC12               3143 non-null float64\n",
      "PCH_SUPERC_07_12       2638 non-null float64\n",
      "SUPERCPTH07            3143 non-null float64\n",
      "SUPERCPTH12            3143 non-null float64\n",
      "PCH_SUPERCPTH_07_12    2638 non-null float64\n",
      "CONVS07                3143 non-null float64\n",
      "CONVS12                3143 non-null float64\n",
      "PCH_CONVS_07_12        3118 non-null float64\n",
      "CONVSPTH07             3143 non-null float64\n",
      "CONVSPTH12             3143 non-null float64\n",
      "PCH_CONVSPTH_07_12     3122 non-null float64\n",
      "SPECS07                3143 non-null float64\n",
      "SPECS12                3143 non-null float64\n",
      "PCH_SPECS_07_12        2970 non-null float64\n",
      "SPECSPTH07             3143 non-null float64\n",
      "SPECSPTH12             3143 non-null float64\n",
      "PCH_SPECSPTH_07_12     2974 non-null float64\n",
      "SNAPS08                3143 non-null float64\n",
      "SNAPS12                3143 non-null float64\n",
      "PCH_SNAPS_08_12        3138 non-null float64\n",
      "SNAPSPTH08             3143 non-null float64\n",
      "SNAPSPTH12             3143 non-null float64\n",
      "PCH_SNAPSPTH_08_12     3138 non-null float64\n",
      "WICS08                 3143 non-null float64\n",
      "WICS12                 3143 non-null float64\n",
      "PCH_WICS_08_12         3124 non-null float64\n",
      "WICSPTH08              3143 non-null float64\n",
      "WICSPTH12              3143 non-null float64\n",
      "PCH_WICSPTH_08_12      3124 non-null float64\n",
      "dtypes: float64(36), int64(1), object(2)\n",
      "memory usage: 981.5+ KB\n"
     ]
    }
   ],
   "source": [
    "stores.info()"
   ]
  },
  {
   "cell_type": "code",
   "execution_count": 27,
   "metadata": {
    "collapsed": true
   },
   "outputs": [],
   "source": [
    "stores = stores.drop(['GROC07','GROC12','PCH_GROC_07_12','PCH_GROCPTH_07_12','SUPERC07','SUPERC12','PCH_SUPERC_07_12','PCH_SUPERCPTH_07_12','CONVS07','CONVS12','PCH_CONVS_07_12','PCH_CONVSPTH_07_12','SPECS07','SPECS12','PCH_SPECS_07_12','PCH_SPECSPTH_07_12','SNAPS08','SNAPS12','PCH_SNAPS_08_12','WICS08','WICS12','PCH_WICS_08_12','PCH_WICSPTH_08_12'],axis=1)"
   ]
  },
  {
   "cell_type": "code",
   "execution_count": 28,
   "metadata": {
    "collapsed": true
   },
   "outputs": [],
   "source": [
    "stores = stores.drop_duplicates()"
   ]
  },
  {
   "cell_type": "code",
   "execution_count": 29,
   "metadata": {},
   "outputs": [
    {
     "name": "stdout",
     "output_type": "stream",
     "text": [
      "<class 'pandas.core.frame.DataFrame'>\n",
      "RangeIndex: 3143 entries, 0 to 3142\n",
      "Data columns (total 18 columns):\n",
      "FIPS               3143 non-null int64\n",
      "State              3143 non-null object\n",
      "County             3143 non-null object\n",
      "PCT_NHWHITE10      3143 non-null float64\n",
      "PCT_NHBLACK10      3143 non-null float64\n",
      "PCT_HISP10         3143 non-null float64\n",
      "PCT_NHASIAN10      3143 non-null float64\n",
      "PCT_NHNA10         3143 non-null float64\n",
      "PCT_NHPI10         3143 non-null float64\n",
      "PCT_65OLDER10      3143 non-null float64\n",
      "PCT_18YOUNGER10    3143 non-null float64\n",
      "MEDHHINC10         3143 non-null object\n",
      "POVRATE10          3143 non-null object\n",
      "PERPOV10           3143 non-null int64\n",
      "CHILDPOVRATE10     3143 non-null object\n",
      "PERCHLDPOV10       3143 non-null int64\n",
      "METRO13            3143 non-null int64\n",
      "POPLOSS00          3143 non-null object\n",
      "dtypes: float64(8), int64(4), object(6)\n",
      "memory usage: 442.1+ KB\n"
     ]
    }
   ],
   "source": [
    "socioeconomic.info()"
   ]
  },
  {
   "cell_type": "code",
   "execution_count": 30,
   "metadata": {
    "collapsed": true
   },
   "outputs": [],
   "source": [
    "socioeconomic = socioeconomic.drop_duplicates()"
   ]
  },
  {
   "cell_type": "code",
   "execution_count": 31,
   "metadata": {},
   "outputs": [
    {
     "name": "stdout",
     "output_type": "stream",
     "text": [
      "<class 'pandas.core.frame.DataFrame'>\n",
      "Int64Index: 3143 entries, 0 to 3142\n",
      "Data columns (total 39 columns):\n",
      "FIPS                     3143 non-null int64\n",
      "State                    3143 non-null object\n",
      "County                   3143 non-null object\n",
      "PCT_LACCESS_POP10        3143 non-null float64\n",
      "PCT_LACCESS_LOWI10       3143 non-null float64\n",
      "PCT_LACCESS_CHILD10      3143 non-null float64\n",
      "PCT_LACCESS_SENIORS10    3143 non-null float64\n",
      "PCT_LACCESS_HHNV10       3143 non-null float64\n",
      "REDEMP_SNAPS08           2815 non-null float64\n",
      "PCT_SNAP09               3143 non-null float64\n",
      "PCT_SNAP14               3143 non-null float64\n",
      "PC_SNAPBEN08             3132 non-null float64\n",
      "PC_SNAPBEN10             2753 non-null float64\n",
      "SNAP_PART_RATE08         3143 non-null float64\n",
      "SNAP_PART_RATE10         3143 non-null float64\n",
      "SNAP_OAPP00              3143 non-null int64\n",
      "SNAP_OAPP05              3143 non-null float64\n",
      "SNAP_OAPP10              3143 non-null float64\n",
      "SNAP_FACEWAIVER00        3143 non-null int64\n",
      "SNAP_FACEWAIVER05        3143 non-null float64\n",
      "SNAP_FACEWAIVER10        3143 non-null float64\n",
      "SNAP_VEHEXCL00           3143 non-null int64\n",
      "SNAP_VEHEXCL05           3143 non-null int64\n",
      "SNAP_VEHEXCL10           3143 non-null int64\n",
      "SNAP_BBCE00              3143 non-null int64\n",
      "SNAP_BBCE05              3143 non-null int64\n",
      "SNAP_BBCE10              3143 non-null int64\n",
      "SNAP_REPORTSIMPLE00      3143 non-null int64\n",
      "SNAP_REPORTSIMPLE05      3143 non-null int64\n",
      "SNAP_REPORTSIMPLE10      3143 non-null int64\n",
      "PCT_NSLP09               3143 non-null float64\n",
      "PCT_FREE_LUNCH06         3131 non-null float64\n",
      "PCT_FREE_LUNCH10         3125 non-null float64\n",
      "PCT_REDUCED_LUNCH06      3129 non-null float64\n",
      "PCT_REDUCED_LUNCH10      3125 non-null float64\n",
      "PCT_SBP09                3143 non-null float64\n",
      "PCT_SFSP09               3143 non-null float64\n",
      "PCT_WIC09                3143 non-null float64\n",
      "PCT_CACFP09              3143 non-null float64\n",
      "dtypes: float64(25), int64(12), object(2)\n",
      "memory usage: 982.2+ KB\n"
     ]
    }
   ],
   "source": [
    "#merge converted data frames to one large data frame indexing on FIPS, State, and County\n",
    "all_data = pd.merge(access,assistance,on=['FIPS','State','County'],how='inner')\n",
    "all_data.info()"
   ]
  },
  {
   "cell_type": "code",
   "execution_count": 32,
   "metadata": {},
   "outputs": [
    {
     "name": "stdout",
     "output_type": "stream",
     "text": [
      "<class 'pandas.core.frame.DataFrame'>\n",
      "Int64Index: 3143 entries, 0 to 3142\n",
      "Data columns (total 47 columns):\n",
      "FIPS                     3143 non-null int64\n",
      "State                    3143 non-null object\n",
      "County                   3143 non-null object\n",
      "PCT_LACCESS_POP10        3143 non-null float64\n",
      "PCT_LACCESS_LOWI10       3143 non-null float64\n",
      "PCT_LACCESS_CHILD10      3143 non-null float64\n",
      "PCT_LACCESS_SENIORS10    3143 non-null float64\n",
      "PCT_LACCESS_HHNV10       3143 non-null float64\n",
      "REDEMP_SNAPS08           2815 non-null float64\n",
      "PCT_SNAP09               3143 non-null float64\n",
      "PCT_SNAP14               3143 non-null float64\n",
      "PC_SNAPBEN08             3132 non-null float64\n",
      "PC_SNAPBEN10             2753 non-null float64\n",
      "SNAP_PART_RATE08         3143 non-null float64\n",
      "SNAP_PART_RATE10         3143 non-null float64\n",
      "SNAP_OAPP00              3143 non-null int64\n",
      "SNAP_OAPP05              3143 non-null float64\n",
      "SNAP_OAPP10              3143 non-null float64\n",
      "SNAP_FACEWAIVER00        3143 non-null int64\n",
      "SNAP_FACEWAIVER05        3143 non-null float64\n",
      "SNAP_FACEWAIVER10        3143 non-null float64\n",
      "SNAP_VEHEXCL00           3143 non-null int64\n",
      "SNAP_VEHEXCL05           3143 non-null int64\n",
      "SNAP_VEHEXCL10           3143 non-null int64\n",
      "SNAP_BBCE00              3143 non-null int64\n",
      "SNAP_BBCE05              3143 non-null int64\n",
      "SNAP_BBCE10              3143 non-null int64\n",
      "SNAP_REPORTSIMPLE00      3143 non-null int64\n",
      "SNAP_REPORTSIMPLE05      3143 non-null int64\n",
      "SNAP_REPORTSIMPLE10      3143 non-null int64\n",
      "PCT_NSLP09               3143 non-null float64\n",
      "PCT_FREE_LUNCH06         3131 non-null float64\n",
      "PCT_FREE_LUNCH10         3125 non-null float64\n",
      "PCT_REDUCED_LUNCH06      3129 non-null float64\n",
      "PCT_REDUCED_LUNCH10      3125 non-null float64\n",
      "PCT_SBP09                3143 non-null float64\n",
      "PCT_SFSP09               3143 non-null float64\n",
      "PCT_WIC09                3143 non-null float64\n",
      "PCT_CACFP09              3143 non-null float64\n",
      "FOODINSEC_00_02          3143 non-null float64\n",
      "FOODINSEC_07_09          3143 non-null float64\n",
      "FOODINSEC_10_12          3143 non-null float64\n",
      "VLFOODSEC_00_02          3143 non-null float64\n",
      "VLFOODSEC_07_09          3143 non-null float64\n",
      "VLFOODSEC_10_12          3143 non-null float64\n",
      "FOODINSEC_CHILD_01_07    3143 non-null float64\n",
      "FOODINSEC_CHILD_03_11    3143 non-null float64\n",
      "dtypes: float64(33), int64(12), object(2)\n",
      "memory usage: 1.2+ MB\n"
     ]
    }
   ],
   "source": [
    "all_data = pd.merge(all_data,insecurity,on=['FIPS','State','County'],how='inner')\n",
    "all_data.info()"
   ]
  },
  {
   "cell_type": "code",
   "execution_count": 33,
   "metadata": {
    "collapsed": true
   },
   "outputs": [],
   "source": [
    "all_data = pd.merge(all_data,prices,on=['FIPS','State','County'],how='inner')"
   ]
  },
  {
   "cell_type": "code",
   "execution_count": 34,
   "metadata": {
    "collapsed": true
   },
   "outputs": [],
   "source": [
    "all_data = pd.merge(all_data,restaurants,on=['FIPS','State','County'],how='inner')"
   ]
  },
  {
   "cell_type": "code",
   "execution_count": 35,
   "metadata": {
    "collapsed": true
   },
   "outputs": [],
   "source": [
    "all_data = pd.merge(all_data,stores,on=['FIPS','State','County'],how='inner')"
   ]
  },
  {
   "cell_type": "code",
   "execution_count": 36,
   "metadata": {
    "collapsed": true
   },
   "outputs": [],
   "source": [
    "all_data = pd.merge(all_data,socioeconomic,on=['FIPS','State','County'],how='inner')"
   ]
  },
  {
   "cell_type": "code",
   "execution_count": 37,
   "metadata": {
    "collapsed": true
   },
   "outputs": [],
   "source": [
    "all_data = pd.merge(all_data,health,on=['FIPS','State','County'],how='inner')"
   ]
  },
  {
   "cell_type": "code",
   "execution_count": 38,
   "metadata": {},
   "outputs": [
    {
     "name": "stdout",
     "output_type": "stream",
     "text": [
      "<class 'pandas.core.frame.DataFrame'>\n",
      "Int64Index: 3143 entries, 0 to 3142\n",
      "Columns: 101 entries, FIPS to NATAMEN\n",
      "dtypes: float64(80), int64(15), object(6)\n",
      "memory usage: 2.4+ MB\n"
     ]
    }
   ],
   "source": [
    "all_data.info()"
   ]
  },
  {
   "cell_type": "code",
   "execution_count": 39,
   "metadata": {
    "scrolled": true
   },
   "outputs": [
    {
     "data": {
      "text/plain": [
       "['FIPS',\n",
       " 'State',\n",
       " 'County',\n",
       " 'PCT_LACCESS_POP10',\n",
       " 'PCT_LACCESS_LOWI10',\n",
       " 'PCT_LACCESS_CHILD10',\n",
       " 'PCT_LACCESS_SENIORS10',\n",
       " 'PCT_LACCESS_HHNV10',\n",
       " 'REDEMP_SNAPS08',\n",
       " 'PCT_SNAP09',\n",
       " 'PCT_SNAP14',\n",
       " 'PC_SNAPBEN08',\n",
       " 'PC_SNAPBEN10',\n",
       " 'SNAP_PART_RATE08',\n",
       " 'SNAP_PART_RATE10',\n",
       " 'SNAP_OAPP00',\n",
       " 'SNAP_OAPP05',\n",
       " 'SNAP_OAPP10',\n",
       " 'SNAP_FACEWAIVER00',\n",
       " 'SNAP_FACEWAIVER05',\n",
       " 'SNAP_FACEWAIVER10',\n",
       " 'SNAP_VEHEXCL00',\n",
       " 'SNAP_VEHEXCL05',\n",
       " 'SNAP_VEHEXCL10',\n",
       " 'SNAP_BBCE00',\n",
       " 'SNAP_BBCE05',\n",
       " 'SNAP_BBCE10',\n",
       " 'SNAP_REPORTSIMPLE00',\n",
       " 'SNAP_REPORTSIMPLE05',\n",
       " 'SNAP_REPORTSIMPLE10',\n",
       " 'PCT_NSLP09',\n",
       " 'PCT_FREE_LUNCH06',\n",
       " 'PCT_FREE_LUNCH10',\n",
       " 'PCT_REDUCED_LUNCH06',\n",
       " 'PCT_REDUCED_LUNCH10',\n",
       " 'PCT_SBP09',\n",
       " 'PCT_SFSP09',\n",
       " 'PCT_WIC09',\n",
       " 'PCT_CACFP09',\n",
       " 'FOODINSEC_00_02',\n",
       " 'FOODINSEC_07_09',\n",
       " 'FOODINSEC_10_12',\n",
       " 'VLFOODSEC_00_02',\n",
       " 'VLFOODSEC_07_09',\n",
       " 'VLFOODSEC_10_12',\n",
       " 'FOODINSEC_CHILD_01_07',\n",
       " 'FOODINSEC_CHILD_03_11',\n",
       " 'MILK_PRICE10',\n",
       " 'SODA_PRICE10',\n",
       " 'SODATAX_STORES11',\n",
       " 'SODATAX_VENDM11',\n",
       " 'CHIPSTAX_STORES11',\n",
       " 'CHIPSTAX_VENDM11',\n",
       " 'FOOD_TAX11',\n",
       " 'FFRPTH07',\n",
       " 'FFRPTH12',\n",
       " 'PCH_FSR_07_12',\n",
       " 'FSRPTH07',\n",
       " 'FSRPTH12',\n",
       " 'PC_FFRSALES02',\n",
       " 'PC_FFRSALES07',\n",
       " 'PC_FSRSALES02',\n",
       " 'PC_FSRSALES07',\n",
       " 'GROCPTH07',\n",
       " 'GROCPTH12',\n",
       " 'SUPERCPTH07',\n",
       " 'SUPERCPTH12',\n",
       " 'CONVSPTH07',\n",
       " 'CONVSPTH12',\n",
       " 'SPECSPTH07',\n",
       " 'SPECSPTH12',\n",
       " 'SNAPSPTH08',\n",
       " 'SNAPSPTH12',\n",
       " 'PCH_SNAPSPTH_08_12',\n",
       " 'WICSPTH08',\n",
       " 'WICSPTH12',\n",
       " 'PCT_NHWHITE10',\n",
       " 'PCT_NHBLACK10',\n",
       " 'PCT_HISP10',\n",
       " 'PCT_NHASIAN10',\n",
       " 'PCT_NHNA10',\n",
       " 'PCT_NHPI10',\n",
       " 'PCT_65OLDER10',\n",
       " 'PCT_18YOUNGER10',\n",
       " 'MEDHHINC10',\n",
       " 'POVRATE10',\n",
       " 'PERPOV10',\n",
       " 'CHILDPOVRATE10',\n",
       " 'PERCHLDPOV10',\n",
       " 'METRO13',\n",
       " 'POPLOSS00',\n",
       " 'PCT_DIABETES_ADULTS09',\n",
       " 'PCT_DIABETES_ADULTS10',\n",
       " 'PCT_OBESE_ADULTS09',\n",
       " 'PCT_OBESE_ADULTS10',\n",
       " 'PCT_OBESE_ADULTS13',\n",
       " 'RECFAC07',\n",
       " 'RECFAC12',\n",
       " 'RECFACPTH07',\n",
       " 'RECFACPTH12',\n",
       " 'NATAMEN']"
      ]
     },
     "execution_count": 39,
     "metadata": {},
     "output_type": "execute_result"
    }
   ],
   "source": [
    "columns = list(all_data)\n",
    "columns"
   ]
  },
  {
   "cell_type": "code",
   "execution_count": 40,
   "metadata": {
    "collapsed": true
   },
   "outputs": [],
   "source": [
    "#columns that are categorical variables\n",
    "columns_to_remove = ['SNAP_OAPP00','SNAP_OAPP05','SNAP_OAPP10','SNAP_FACEWAIVER00','SNAP_FACEWAIVER05','SNAP_FACEWAIVER10','SNAP_VEHEXCL00','SNAP_VEHEXCL05','SNAP_VEHEXCL10','SNAP_BBCE00','SNAP_BBCE05','SNAP_BBCE10','SNAP_REPORTSIMPLE00','SNAP_REPORTSIMPLE05','SNAP_REPORTSIMPLE10','FDPIR12','SODATAX_STORES11','SODATAX_VENDM11','CHIPSTAX_STORES11','CHIPSTAX_VENDM11','FOOD_TAX11','PERPOV10','PERCHLDPOV10','METRO13','POPLOSS00']"
   ]
  },
  {
   "cell_type": "code",
   "execution_count": 41,
   "metadata": {
    "collapsed": true
   },
   "outputs": [],
   "source": [
    "#remove categorical variables from list of all columns in dataframe\n",
    "columns_left = [x for x in columns if x not in columns_to_remove]"
   ]
  },
  {
   "cell_type": "code",
   "execution_count": 42,
   "metadata": {
    "collapsed": true
   },
   "outputs": [],
   "source": [
    "#stray percent change column that I did not remove\n",
    "columns_left.remove('PCH_SNAPSPTH_08_12')"
   ]
  },
  {
   "cell_type": "code",
   "execution_count": 43,
   "metadata": {
    "collapsed": true
   },
   "outputs": [],
   "source": [
    "#replace <Null> with 0's (6 cells contain this for some reason)\n",
    "all_data.replace('<Null>',0,inplace=True)"
   ]
  },
  {
   "cell_type": "code",
   "execution_count": 44,
   "metadata": {
    "collapsed": true
   },
   "outputs": [],
   "source": [
    "#replace 0's with NaN in noncategorical variable columns in preparation for imputing NaN's\n",
    "import numpy as np\n",
    "for i in columns_left:\n",
    "    all_data[i].replace(0,np.nan,inplace=True)"
   ]
  },
  {
   "cell_type": "code",
   "execution_count": 45,
   "metadata": {
    "collapsed": true
   },
   "outputs": [],
   "source": [
    "#save to excel\n",
    "from pandas import ExcelWriter\n",
    "writer = ExcelWriter('Capstone1Export.xlsx')\n",
    "all_data.to_excel(writer)\n",
    "writer.save()"
   ]
  },
  {
   "cell_type": "code",
   "execution_count": 108,
   "metadata": {
    "collapsed": true
   },
   "outputs": [],
   "source": [
    "#separate dependent variable from independent variables, drop State and County and FIPS\n",
    "dependent = all_data.drop(['PCT_OBESE_ADULTS10','State','County','FIPS','PCT_OBESE_ADULTS09', 'PCT_OBESE_ADULTS13'], axis=1)"
   ]
  },
  {
   "cell_type": "code",
   "execution_count": 109,
   "metadata": {
    "collapsed": true
   },
   "outputs": [],
   "source": [
    "independent = all_data['PCT_OBESE_ADULTS10']"
   ]
  },
  {
   "cell_type": "code",
   "execution_count": 110,
   "metadata": {
    "collapsed": true
   },
   "outputs": [],
   "source": [
    "#dataframe to array\n",
    "y = independent.as_matrix().reshape(-1,1)\n",
    "X = dependent.as_matrix()"
   ]
  },
  {
   "cell_type": "markdown",
   "metadata": {},
   "source": [
    "## Preprocessing"
   ]
  },
  {
   "cell_type": "code",
   "execution_count": 111,
   "metadata": {
    "collapsed": true
   },
   "outputs": [],
   "source": [
    "#impute missing values\n",
    "from sklearn.preprocessing import Imputer\n",
    "imp = Imputer(missing_values='NaN',strategy='median',axis=0)\n",
    "imp.fit(y)\n",
    "y = imp.transform(y)"
   ]
  },
  {
   "cell_type": "code",
   "execution_count": 112,
   "metadata": {
    "collapsed": true
   },
   "outputs": [],
   "source": [
    "imp.fit(X)\n",
    "X = imp.transform(X)"
   ]
  },
  {
   "cell_type": "code",
   "execution_count": 113,
   "metadata": {
    "collapsed": true
   },
   "outputs": [],
   "source": [
    "#scale the data\n",
    "from sklearn.preprocessing import scale\n",
    "X_scaled = scale(X)"
   ]
  },
  {
   "cell_type": "markdown",
   "metadata": {},
   "source": [
    "## Visual EDA"
   ]
  },
  {
   "cell_type": "code",
   "execution_count": 114,
   "metadata": {},
   "outputs": [
    {
     "data": {
      "image/png": "[encoded data removed]",
      "text/plain": [
       "<matplotlib.figure.Figure at 0x1218d3710>"
      ]
     },
     "metadata": {},
     "output_type": "display_data"
    }
   ],
   "source": [
    "#visulization using matplotlib and seaborn\n",
    "import matplotlib.pyplot as plt\n",
    "import seaborn as sns\n",
    "#histogram of percentage of obese adults by county\n",
    "all_data['PCT_OBESE_ADULTS10'].plot.hist(bins=200)\n",
    "plt.show()"
   ]
  },
  {
   "cell_type": "code",
   "execution_count": 115,
   "metadata": {},
   "outputs": [
    {
     "data": {
      "image/png": "[encoded data removed]",
      "text/plain": [
       "<matplotlib.figure.Figure at 0x121a5fef0>"
      ]
     },
     "metadata": {},
     "output_type": "display_data"
    }
   ],
   "source": [
    "#violin plot of percentage of obese adults by county\n",
    "sns.violinplot(y='PCT_OBESE_ADULTS10',data=all_data)\n",
    "plt.show()"
   ]
  },
  {
   "cell_type": "code",
   "execution_count": 116,
   "metadata": {},
   "outputs": [
    {
     "data": {
      "image/png": "[encoded data removed]",
      "text/plain": [
       "<matplotlib.figure.Figure at 0x121a4fef0>"
      ]
     },
     "metadata": {},
     "output_type": "display_data"
    }
   ],
   "source": [
    "sns.lmplot(x='PCT_LACCESS_LOWI10', y='PCT_OBESE_ADULTS10', data=all_data)\n",
    "plt.show()"
   ]
  },
  {
   "cell_type": "code",
   "execution_count": 117,
   "metadata": {},
   "outputs": [
    {
     "data": {
      "image/png": "[encoded data removed]",
      "text/plain": [
       "<matplotlib.figure.Figure at 0x11905d908>"
      ]
     },
     "metadata": {},
     "output_type": "display_data"
    }
   ],
   "source": [
    "sns.lmplot(x='PCT_LACCESS_LOWI10', y='PCT_OBESE_ADULTS10', hue='METRO13', data=all_data)\n",
    "plt.show()"
   ]
  },
  {
   "cell_type": "code",
   "execution_count": 118,
   "metadata": {},
   "outputs": [
    {
     "data": {
      "image/png": "[encoded data removed]",
      "text/plain": [
       "<matplotlib.figure.Figure at 0x119073240>"
      ]
     },
     "metadata": {},
     "output_type": "display_data"
    }
   ],
   "source": [
    "sns.lmplot(x='GROCPTH07', y='PCT_OBESE_ADULTS10', data=all_data)\n",
    "plt.show()"
   ]
  },
  {
   "cell_type": "code",
   "execution_count": 119,
   "metadata": {},
   "outputs": [
    {
     "data": {
      "image/png": "[encoded data removed]",
      "text/plain": [
       "<matplotlib.figure.Figure at 0x1190cc710>"
      ]
     },
     "metadata": {},
     "output_type": "display_data"
    }
   ],
   "source": [
    "sns.lmplot(x='PCT_FREE_LUNCH10', y='PCT_OBESE_ADULTS10', data=all_data)\n",
    "plt.show()"
   ]
  },
  {
   "cell_type": "code",
   "execution_count": 120,
   "metadata": {},
   "outputs": [
    {
     "data": {
      "image/png": "[encoded data removed]",
      "text/plain": [
       "<matplotlib.figure.Figure at 0x121a13a90>"
      ]
     },
     "metadata": {},
     "output_type": "display_data"
    }
   ],
   "source": [
    "sns.lmplot(x='PCT_FREE_LUNCH10', y='PCT_OBESE_ADULTS10', hue='METRO13',data=all_data)\n",
    "plt.show()"
   ]
  },
  {
   "cell_type": "code",
   "execution_count": 121,
   "metadata": {},
   "outputs": [
    {
     "data": {
      "image/png": "[encoded data removed]",
      "text/plain": [
       "<matplotlib.figure.Figure at 0x1218d3940>"
      ]
     },
     "metadata": {},
     "output_type": "display_data"
    }
   ],
   "source": [
    "sns.lmplot(x='PCT_SNAP09', y='PCT_OBESE_ADULTS10', data=all_data)\n",
    "plt.show()"
   ]
  },
  {
   "cell_type": "code",
   "execution_count": 122,
   "metadata": {},
   "outputs": [
    {
     "data": {
      "image/png": "[encoded data removed]",
      "text/plain": [
       "<matplotlib.figure.Figure at 0x11fc5dcc0>"
      ]
     },
     "metadata": {},
     "output_type": "display_data"
    }
   ],
   "source": [
    "sns.lmplot(x='PCT_SNAP09', y='PCT_OBESE_ADULTS10', hue='METRO13',data=all_data)\n",
    "plt.show()"
   ]
  },
  {
   "cell_type": "markdown",
   "metadata": {},
   "source": [
    "## Statisical EDA"
   ]
  },
  {
   "cell_type": "code",
   "execution_count": 123,
   "metadata": {},
   "outputs": [
    {
     "data": {
      "text/html": [
       "<div>\n",
       "<style>\n",
       "    .dataframe thead tr:only-child th {\n",
       "        text-align: right;\n",
       "    }\n",
       "\n",
       "    .dataframe thead th {\n",
       "        text-align: left;\n",
       "    }\n",
       "\n",
       "    .dataframe tbody tr th {\n",
       "        vertical-align: top;\n",
       "    }\n",
       "</style>\n",
       "<table border=\"1\" class=\"dataframe\">\n",
       "  <thead>\n",
       "    <tr style=\"text-align: right;\">\n",
       "      <th></th>\n",
       "      <th>PCT_OBESE_ADULTS10</th>\n",
       "      <th>PCT_FREE_LUNCH10</th>\n",
       "    </tr>\n",
       "  </thead>\n",
       "  <tbody>\n",
       "    <tr>\n",
       "      <th>PCT_OBESE_ADULTS10</th>\n",
       "      <td>1.000000</td>\n",
       "      <td>0.482995</td>\n",
       "    </tr>\n",
       "    <tr>\n",
       "      <th>PCT_FREE_LUNCH10</th>\n",
       "      <td>0.482995</td>\n",
       "      <td>1.000000</td>\n",
       "    </tr>\n",
       "  </tbody>\n",
       "</table>\n",
       "</div>"
      ],
      "text/plain": [
       "                    PCT_OBESE_ADULTS10  PCT_FREE_LUNCH10\n",
       "PCT_OBESE_ADULTS10            1.000000          0.482995\n",
       "PCT_FREE_LUNCH10              0.482995          1.000000"
      ]
     },
     "execution_count": 123,
     "metadata": {},
     "output_type": "execute_result"
    }
   ],
   "source": [
    "#isolate obesity rate and free lunch\n",
    "obesityrate_freelunch = all_data[['PCT_OBESE_ADULTS10','PCT_FREE_LUNCH10']]\n",
    "obesityrate_freelunch.corr()"
   ]
  },
  {
   "cell_type": "code",
   "execution_count": 124,
   "metadata": {},
   "outputs": [
    {
     "data": {
      "text/html": [
       "<div>\n",
       "<style>\n",
       "    .dataframe thead tr:only-child th {\n",
       "        text-align: right;\n",
       "    }\n",
       "\n",
       "    .dataframe thead th {\n",
       "        text-align: left;\n",
       "    }\n",
       "\n",
       "    .dataframe tbody tr th {\n",
       "        vertical-align: top;\n",
       "    }\n",
       "</style>\n",
       "<table border=\"1\" class=\"dataframe\">\n",
       "  <thead>\n",
       "    <tr style=\"text-align: right;\">\n",
       "      <th></th>\n",
       "      <th>PCT_OBESE_ADULTS10</th>\n",
       "      <th>PCT_SNAP09</th>\n",
       "    </tr>\n",
       "  </thead>\n",
       "  <tbody>\n",
       "    <tr>\n",
       "      <th>PCT_OBESE_ADULTS10</th>\n",
       "      <td>1.000000</td>\n",
       "      <td>0.452115</td>\n",
       "    </tr>\n",
       "    <tr>\n",
       "      <th>PCT_SNAP09</th>\n",
       "      <td>0.452115</td>\n",
       "      <td>1.000000</td>\n",
       "    </tr>\n",
       "  </tbody>\n",
       "</table>\n",
       "</div>"
      ],
      "text/plain": [
       "                    PCT_OBESE_ADULTS10  PCT_SNAP09\n",
       "PCT_OBESE_ADULTS10            1.000000    0.452115\n",
       "PCT_SNAP09                    0.452115    1.000000"
      ]
     },
     "execution_count": 124,
     "metadata": {},
     "output_type": "execute_result"
    }
   ],
   "source": [
    "#isolate obesity rate and food stamps\n",
    "obesityrate_foodstamps = all_data[['PCT_OBESE_ADULTS10','PCT_SNAP09']]\n",
    "#calculate correlation coefficient\n",
    "obesityrate_foodstamps.corr()"
   ]
  },
  {
   "cell_type": "code",
   "execution_count": 125,
   "metadata": {},
   "outputs": [
    {
     "data": {
      "text/html": [
       "<div>\n",
       "<style>\n",
       "    .dataframe thead tr:only-child th {\n",
       "        text-align: right;\n",
       "    }\n",
       "\n",
       "    .dataframe thead th {\n",
       "        text-align: left;\n",
       "    }\n",
       "\n",
       "    .dataframe tbody tr th {\n",
       "        vertical-align: top;\n",
       "    }\n",
       "</style>\n",
       "<table border=\"1\" class=\"dataframe\">\n",
       "  <thead>\n",
       "    <tr style=\"text-align: right;\">\n",
       "      <th></th>\n",
       "      <th>PCT_SNAP09</th>\n",
       "      <th>PCT_FREE_LUNCH10</th>\n",
       "    </tr>\n",
       "  </thead>\n",
       "  <tbody>\n",
       "    <tr>\n",
       "      <th>PCT_SNAP09</th>\n",
       "      <td>1.000000</td>\n",
       "      <td>0.507218</td>\n",
       "    </tr>\n",
       "    <tr>\n",
       "      <th>PCT_FREE_LUNCH10</th>\n",
       "      <td>0.507218</td>\n",
       "      <td>1.000000</td>\n",
       "    </tr>\n",
       "  </tbody>\n",
       "</table>\n",
       "</div>"
      ],
      "text/plain": [
       "                  PCT_SNAP09  PCT_FREE_LUNCH10\n",
       "PCT_SNAP09          1.000000          0.507218\n",
       "PCT_FREE_LUNCH10    0.507218          1.000000"
      ]
     },
     "execution_count": 125,
     "metadata": {},
     "output_type": "execute_result"
    }
   ],
   "source": [
    "#isolate food stamps and free lunch\n",
    "foodstamps_freelunch = all_data[['PCT_SNAP09','PCT_FREE_LUNCH10']]\n",
    "#calculate correlation coefficient\n",
    "foodstamps_freelunch.corr()"
   ]
  },
  {
   "cell_type": "code",
   "execution_count": 126,
   "metadata": {
    "collapsed": true
   },
   "outputs": [],
   "source": [
    "#bootstrap replicate function\n",
    "def bootstrap_replicate(data,func):\n",
    "    '''Generate bootstrap replicate'''\n",
    "    bs_sample = np.random.choice(data,len(data))\n",
    "    \n",
    "    return func(bs_sample)\n",
    "\n",
    "#generate many bootstrap replicates\n",
    "def draw_bs_reps(data,func,size=1):\n",
    "    '''Draw bootstrap replicates'''\n",
    "    bs_replicates = np.empty(size)\n",
    "    for i in range(size):\n",
    "        bs_replicates[i] = bootstrap_replicate(data,func)\n",
    "    \n",
    "    return bs_replicates"
   ]
  },
  {
   "cell_type": "code",
   "execution_count": 127,
   "metadata": {
    "collapsed": true
   },
   "outputs": [],
   "source": [
    "#isolate obesity rates for metro counties\n",
    "obesity_metro_1 = all_data[all_data.METRO13 == 1]['PCT_OBESE_ADULTS10']\n",
    "#isolate obesity rates for non metro counties\n",
    "obesity_metro_0 = all_data[all_data.METRO13 == 0]['PCT_OBESE_ADULTS10']"
   ]
  },
  {
   "cell_type": "code",
   "execution_count": 128,
   "metadata": {},
   "outputs": [
    {
     "data": {
      "text/plain": [
       "30.553951561504157"
      ]
     },
     "execution_count": 128,
     "metadata": {},
     "output_type": "execute_result"
    }
   ],
   "source": [
    "obesity_mean = np.mean(all_data.PCT_OBESE_ADULTS10)\n",
    "obesity_mean"
   ]
  },
  {
   "cell_type": "code",
   "execution_count": 129,
   "metadata": {
    "collapsed": true
   },
   "outputs": [],
   "source": [
    "#shift obesity mean for metro counties\n",
    "obesity_metro_1_shift = obesity_metro_1 - np.mean(obesity_metro_1) + obesity_mean\n",
    "#shift obesity mean for non metro\n",
    "obesity_metro_0_shift = obesity_metro_0 - np.mean(obesity_metro_0) + obesity_mean"
   ]
  },
  {
   "cell_type": "code",
   "execution_count": 130,
   "metadata": {
    "collapsed": true
   },
   "outputs": [],
   "source": [
    "#draw 10,000 bootstrap replicates for metro counties\n",
    "bs_replicates_metro_1 = draw_bs_reps(obesity_metro_1_shift,np.mean,10000)\n",
    "#draw 10,000 bootstrap replicates for non metro counties\n",
    "bs_replicates_metro_0 = draw_bs_reps(obesity_metro_0_shift,np.mean,10000)"
   ]
  },
  {
   "cell_type": "code",
   "execution_count": 131,
   "metadata": {},
   "outputs": [
    {
     "data": {
      "text/plain": [
       "array([ 30.65420863,  30.68822748,  30.53270049, ...,  30.66826176,\n",
       "        30.67254625,  30.65515122])"
      ]
     },
     "execution_count": 131,
     "metadata": {},
     "output_type": "execute_result"
    }
   ],
   "source": [
    "bs_replicates_metro_1"
   ]
  },
  {
   "cell_type": "code",
   "execution_count": 132,
   "metadata": {},
   "outputs": [
    {
     "data": {
      "text/plain": [
       "array([ nan,  nan,  nan, ...,  nan,  nan,  nan])"
      ]
     },
     "execution_count": 132,
     "metadata": {},
     "output_type": "execute_result"
    }
   ],
   "source": [
    "bs_replicates_metro_0"
   ]
  },
  {
   "cell_type": "code",
   "execution_count": 133,
   "metadata": {
    "collapsed": true
   },
   "outputs": [],
   "source": [
    "obesity_metro_0_shift = obesity_metro_0_shift.dropna()"
   ]
  },
  {
   "cell_type": "code",
   "execution_count": 134,
   "metadata": {},
   "outputs": [
    {
     "data": {
      "text/plain": [
       "array([ 30.44872579,  30.60103426,  30.37343406, ...,  30.58946653,\n",
       "        30.63208449,  30.62254618])"
      ]
     },
     "execution_count": 134,
     "metadata": {},
     "output_type": "execute_result"
    }
   ],
   "source": [
    "bs_replicates_metro_0 = draw_bs_reps(obesity_metro_0_shift,np.mean,10000)\n",
    "bs_replicates_metro_0"
   ]
  },
  {
   "cell_type": "code",
   "execution_count": 135,
   "metadata": {},
   "outputs": [
    {
     "data": {
      "text/plain": [
       "-1.2777083912097744"
      ]
     },
     "execution_count": 135,
     "metadata": {},
     "output_type": "execute_result"
    }
   ],
   "source": [
    "obesity_mean_diff = np.mean(obesity_metro_1) - np.mean(obesity_metro_0)\n",
    "obesity_mean_diff"
   ]
  },
  {
   "cell_type": "code",
   "execution_count": 136,
   "metadata": {},
   "outputs": [
    {
     "data": {
      "text/plain": [
       "0.0"
      ]
     },
     "execution_count": 136,
     "metadata": {},
     "output_type": "execute_result"
    }
   ],
   "source": [
    "#calculate p value\n",
    "bs_diff = bs_replicates_metro_1 - bs_replicates_metro_0\n",
    "p_value = np.sum(bs_diff < obesity_mean_diff) / len(bs_diff)\n",
    "p_value"
   ]
  },
  {
   "cell_type": "markdown",
   "metadata": {},
   "source": [
    "## Set aside Test data"
   ]
  },
  {
   "cell_type": "code",
   "execution_count": 137,
   "metadata": {
    "collapsed": true
   },
   "outputs": [],
   "source": [
    "from sklearn.model_selection import train_test_split\n",
    "X_train,X_test,y_train,y_test = train_test_split(X_scaled,y,random_state=42)"
   ]
  },
  {
   "cell_type": "markdown",
   "metadata": {},
   "source": [
    "## Calculate average obesity rate"
   ]
  },
  {
   "cell_type": "code",
   "execution_count": 138,
   "metadata": {},
   "outputs": [
    {
     "data": {
      "text/plain": [
       "30.540135765803992"
      ]
     },
     "execution_count": 138,
     "metadata": {},
     "output_type": "execute_result"
    }
   ],
   "source": [
    "import numpy as np\n",
    "np.mean(y_train)"
   ]
  },
  {
   "cell_type": "code",
   "execution_count": 139,
   "metadata": {},
   "outputs": [
    {
     "name": "stdout",
     "output_type": "stream",
     "text": [
      "786\n"
     ]
    }
   ],
   "source": [
    "print(len(y_test))"
   ]
  },
  {
   "cell_type": "code",
   "execution_count": 140,
   "metadata": {
    "scrolled": true
   },
   "outputs": [
    {
     "data": {
      "text/plain": [
       "array([ 30.54013577,  30.54013577,  30.54013577,  30.54013577,\n",
       "        30.54013577,  30.54013577,  30.54013577,  30.54013577,\n",
       "        30.54013577,  30.54013577,  30.54013577,  30.54013577,\n",
       "        30.54013577,  30.54013577,  30.54013577,  30.54013577,\n",
       "        30.54013577,  30.54013577,  30.54013577,  30.54013577,\n",
       "        30.54013577,  30.54013577,  30.54013577,  30.54013577,\n",
       "        30.54013577,  30.54013577,  30.54013577,  30.54013577,\n",
       "        30.54013577,  30.54013577,  30.54013577,  30.54013577,\n",
       "        30.54013577,  30.54013577,  30.54013577,  30.54013577,\n",
       "        30.54013577,  30.54013577,  30.54013577,  30.54013577,\n",
       "        30.54013577,  30.54013577,  30.54013577,  30.54013577,\n",
       "        30.54013577,  30.54013577,  30.54013577,  30.54013577,\n",
       "        30.54013577,  30.54013577,  30.54013577,  30.54013577,\n",
       "        30.54013577,  30.54013577,  30.54013577,  30.54013577,\n",
       "        30.54013577,  30.54013577,  30.54013577,  30.54013577,\n",
       "        30.54013577,  30.54013577,  30.54013577,  30.54013577,\n",
       "        30.54013577,  30.54013577,  30.54013577,  30.54013577,\n",
       "        30.54013577,  30.54013577,  30.54013577,  30.54013577,\n",
       "        30.54013577,  30.54013577,  30.54013577,  30.54013577,\n",
       "        30.54013577,  30.54013577,  30.54013577,  30.54013577,\n",
       "        30.54013577,  30.54013577,  30.54013577,  30.54013577,\n",
       "        30.54013577,  30.54013577,  30.54013577,  30.54013577,\n",
       "        30.54013577,  30.54013577,  30.54013577,  30.54013577,\n",
       "        30.54013577,  30.54013577,  30.54013577,  30.54013577,\n",
       "        30.54013577,  30.54013577,  30.54013577,  30.54013577,\n",
       "        30.54013577,  30.54013577,  30.54013577,  30.54013577,\n",
       "        30.54013577,  30.54013577,  30.54013577,  30.54013577,\n",
       "        30.54013577,  30.54013577,  30.54013577,  30.54013577,\n",
       "        30.54013577,  30.54013577,  30.54013577,  30.54013577,\n",
       "        30.54013577,  30.54013577,  30.54013577,  30.54013577,\n",
       "        30.54013577,  30.54013577,  30.54013577,  30.54013577,\n",
       "        30.54013577,  30.54013577,  30.54013577,  30.54013577,\n",
       "        30.54013577,  30.54013577,  30.54013577,  30.54013577,\n",
       "        30.54013577,  30.54013577,  30.54013577,  30.54013577,\n",
       "        30.54013577,  30.54013577,  30.54013577,  30.54013577,\n",
       "        30.54013577,  30.54013577,  30.54013577,  30.54013577,\n",
       "        30.54013577,  30.54013577,  30.54013577,  30.54013577,\n",
       "        30.54013577,  30.54013577,  30.54013577,  30.54013577,\n",
       "        30.54013577,  30.54013577,  30.54013577,  30.54013577,\n",
       "        30.54013577,  30.54013577,  30.54013577,  30.54013577,\n",
       "        30.54013577,  30.54013577,  30.54013577,  30.54013577,\n",
       "        30.54013577,  30.54013577,  30.54013577,  30.54013577,\n",
       "        30.54013577,  30.54013577,  30.54013577,  30.54013577,\n",
       "        30.54013577,  30.54013577,  30.54013577,  30.54013577,\n",
       "        30.54013577,  30.54013577,  30.54013577,  30.54013577,\n",
       "        30.54013577,  30.54013577,  30.54013577,  30.54013577,\n",
       "        30.54013577,  30.54013577,  30.54013577,  30.54013577,\n",
       "        30.54013577,  30.54013577,  30.54013577,  30.54013577,\n",
       "        30.54013577,  30.54013577,  30.54013577,  30.54013577,\n",
       "        30.54013577,  30.54013577,  30.54013577,  30.54013577,\n",
       "        30.54013577,  30.54013577,  30.54013577,  30.54013577,\n",
       "        30.54013577,  30.54013577,  30.54013577,  30.54013577,\n",
       "        30.54013577,  30.54013577,  30.54013577,  30.54013577,\n",
       "        30.54013577,  30.54013577,  30.54013577,  30.54013577,\n",
       "        30.54013577,  30.54013577,  30.54013577,  30.54013577,\n",
       "        30.54013577,  30.54013577,  30.54013577,  30.54013577,\n",
       "        30.54013577,  30.54013577,  30.54013577,  30.54013577,\n",
       "        30.54013577,  30.54013577,  30.54013577,  30.54013577,\n",
       "        30.54013577,  30.54013577,  30.54013577,  30.54013577,\n",
       "        30.54013577,  30.54013577,  30.54013577,  30.54013577,\n",
       "        30.54013577,  30.54013577,  30.54013577,  30.54013577,\n",
       "        30.54013577,  30.54013577,  30.54013577,  30.54013577,\n",
       "        30.54013577,  30.54013577,  30.54013577,  30.54013577,\n",
       "        30.54013577,  30.54013577,  30.54013577,  30.54013577,\n",
       "        30.54013577,  30.54013577,  30.54013577,  30.54013577,\n",
       "        30.54013577,  30.54013577,  30.54013577,  30.54013577,\n",
       "        30.54013577,  30.54013577,  30.54013577,  30.54013577,\n",
       "        30.54013577,  30.54013577,  30.54013577,  30.54013577,\n",
       "        30.54013577,  30.54013577,  30.54013577,  30.54013577,\n",
       "        30.54013577,  30.54013577,  30.54013577,  30.54013577,\n",
       "        30.54013577,  30.54013577,  30.54013577,  30.54013577,\n",
       "        30.54013577,  30.54013577,  30.54013577,  30.54013577,\n",
       "        30.54013577,  30.54013577,  30.54013577,  30.54013577,\n",
       "        30.54013577,  30.54013577,  30.54013577,  30.54013577,\n",
       "        30.54013577,  30.54013577,  30.54013577,  30.54013577,\n",
       "        30.54013577,  30.54013577,  30.54013577,  30.54013577,\n",
       "        30.54013577,  30.54013577,  30.54013577,  30.54013577,\n",
       "        30.54013577,  30.54013577,  30.54013577,  30.54013577,\n",
       "        30.54013577,  30.54013577,  30.54013577,  30.54013577,\n",
       "        30.54013577,  30.54013577,  30.54013577,  30.54013577,\n",
       "        30.54013577,  30.54013577,  30.54013577,  30.54013577,\n",
       "        30.54013577,  30.54013577,  30.54013577,  30.54013577,\n",
       "        30.54013577,  30.54013577,  30.54013577,  30.54013577,\n",
       "        30.54013577,  30.54013577,  30.54013577,  30.54013577,\n",
       "        30.54013577,  30.54013577,  30.54013577,  30.54013577,\n",
       "        30.54013577,  30.54013577,  30.54013577,  30.54013577,\n",
       "        30.54013577,  30.54013577,  30.54013577,  30.54013577,\n",
       "        30.54013577,  30.54013577,  30.54013577,  30.54013577,\n",
       "        30.54013577,  30.54013577,  30.54013577,  30.54013577,\n",
       "        30.54013577,  30.54013577,  30.54013577,  30.54013577,\n",
       "        30.54013577,  30.54013577,  30.54013577,  30.54013577,\n",
       "        30.54013577,  30.54013577,  30.54013577,  30.54013577,\n",
       "        30.54013577,  30.54013577,  30.54013577,  30.54013577,\n",
       "        30.54013577,  30.54013577,  30.54013577,  30.54013577,\n",
       "        30.54013577,  30.54013577,  30.54013577,  30.54013577,\n",
       "        30.54013577,  30.54013577,  30.54013577,  30.54013577,\n",
       "        30.54013577,  30.54013577,  30.54013577,  30.54013577,\n",
       "        30.54013577,  30.54013577,  30.54013577,  30.54013577,\n",
       "        30.54013577,  30.54013577,  30.54013577,  30.54013577,\n",
       "        30.54013577,  30.54013577,  30.54013577,  30.54013577,\n",
       "        30.54013577,  30.54013577,  30.54013577,  30.54013577,\n",
       "        30.54013577,  30.54013577,  30.54013577,  30.54013577,\n",
       "        30.54013577,  30.54013577,  30.54013577,  30.54013577,\n",
       "        30.54013577,  30.54013577,  30.54013577,  30.54013577,\n",
       "        30.54013577,  30.54013577,  30.54013577,  30.54013577,\n",
       "        30.54013577,  30.54013577,  30.54013577,  30.54013577,\n",
       "        30.54013577,  30.54013577,  30.54013577,  30.54013577,\n",
       "        30.54013577,  30.54013577,  30.54013577,  30.54013577,\n",
       "        30.54013577,  30.54013577,  30.54013577,  30.54013577,\n",
       "        30.54013577,  30.54013577,  30.54013577,  30.54013577,\n",
       "        30.54013577,  30.54013577,  30.54013577,  30.54013577,\n",
       "        30.54013577,  30.54013577,  30.54013577,  30.54013577,\n",
       "        30.54013577,  30.54013577,  30.54013577,  30.54013577,\n",
       "        30.54013577,  30.54013577,  30.54013577,  30.54013577,\n",
       "        30.54013577,  30.54013577,  30.54013577,  30.54013577,\n",
       "        30.54013577,  30.54013577,  30.54013577,  30.54013577,\n",
       "        30.54013577,  30.54013577,  30.54013577,  30.54013577,\n",
       "        30.54013577,  30.54013577,  30.54013577,  30.54013577,\n",
       "        30.54013577,  30.54013577,  30.54013577,  30.54013577,\n",
       "        30.54013577,  30.54013577,  30.54013577,  30.54013577,\n",
       "        30.54013577,  30.54013577,  30.54013577,  30.54013577,\n",
       "        30.54013577,  30.54013577,  30.54013577,  30.54013577,\n",
       "        30.54013577,  30.54013577,  30.54013577,  30.54013577,\n",
       "        30.54013577,  30.54013577,  30.54013577,  30.54013577,\n",
       "        30.54013577,  30.54013577,  30.54013577,  30.54013577,\n",
       "        30.54013577,  30.54013577,  30.54013577,  30.54013577,\n",
       "        30.54013577,  30.54013577,  30.54013577,  30.54013577,\n",
       "        30.54013577,  30.54013577,  30.54013577,  30.54013577,\n",
       "        30.54013577,  30.54013577,  30.54013577,  30.54013577,\n",
       "        30.54013577,  30.54013577,  30.54013577,  30.54013577,\n",
       "        30.54013577,  30.54013577,  30.54013577,  30.54013577,\n",
       "        30.54013577,  30.54013577,  30.54013577,  30.54013577,\n",
       "        30.54013577,  30.54013577,  30.54013577,  30.54013577,\n",
       "        30.54013577,  30.54013577,  30.54013577,  30.54013577,\n",
       "        30.54013577,  30.54013577,  30.54013577,  30.54013577,\n",
       "        30.54013577,  30.54013577,  30.54013577,  30.54013577,\n",
       "        30.54013577,  30.54013577,  30.54013577,  30.54013577,\n",
       "        30.54013577,  30.54013577,  30.54013577,  30.54013577,\n",
       "        30.54013577,  30.54013577,  30.54013577,  30.54013577,\n",
       "        30.54013577,  30.54013577,  30.54013577,  30.54013577,\n",
       "        30.54013577,  30.54013577,  30.54013577,  30.54013577,\n",
       "        30.54013577,  30.54013577,  30.54013577,  30.54013577,\n",
       "        30.54013577,  30.54013577,  30.54013577,  30.54013577,\n",
       "        30.54013577,  30.54013577,  30.54013577,  30.54013577,\n",
       "        30.54013577,  30.54013577,  30.54013577,  30.54013577,\n",
       "        30.54013577,  30.54013577,  30.54013577,  30.54013577,\n",
       "        30.54013577,  30.54013577,  30.54013577,  30.54013577,\n",
       "        30.54013577,  30.54013577,  30.54013577,  30.54013577,\n",
       "        30.54013577,  30.54013577,  30.54013577,  30.54013577,\n",
       "        30.54013577,  30.54013577,  30.54013577,  30.54013577,\n",
       "        30.54013577,  30.54013577,  30.54013577,  30.54013577,\n",
       "        30.54013577,  30.54013577,  30.54013577,  30.54013577,\n",
       "        30.54013577,  30.54013577,  30.54013577,  30.54013577,\n",
       "        30.54013577,  30.54013577,  30.54013577,  30.54013577,\n",
       "        30.54013577,  30.54013577,  30.54013577,  30.54013577,\n",
       "        30.54013577,  30.54013577,  30.54013577,  30.54013577,\n",
       "        30.54013577,  30.54013577,  30.54013577,  30.54013577,\n",
       "        30.54013577,  30.54013577,  30.54013577,  30.54013577,\n",
       "        30.54013577,  30.54013577,  30.54013577,  30.54013577,\n",
       "        30.54013577,  30.54013577,  30.54013577,  30.54013577,\n",
       "        30.54013577,  30.54013577,  30.54013577,  30.54013577,\n",
       "        30.54013577,  30.54013577,  30.54013577,  30.54013577,\n",
       "        30.54013577,  30.54013577,  30.54013577,  30.54013577,\n",
       "        30.54013577,  30.54013577,  30.54013577,  30.54013577,\n",
       "        30.54013577,  30.54013577,  30.54013577,  30.54013577,\n",
       "        30.54013577,  30.54013577,  30.54013577,  30.54013577,\n",
       "        30.54013577,  30.54013577,  30.54013577,  30.54013577,\n",
       "        30.54013577,  30.54013577,  30.54013577,  30.54013577,\n",
       "        30.54013577,  30.54013577,  30.54013577,  30.54013577,\n",
       "        30.54013577,  30.54013577,  30.54013577,  30.54013577,\n",
       "        30.54013577,  30.54013577,  30.54013577,  30.54013577,\n",
       "        30.54013577,  30.54013577,  30.54013577,  30.54013577,\n",
       "        30.54013577,  30.54013577,  30.54013577,  30.54013577,\n",
       "        30.54013577,  30.54013577,  30.54013577,  30.54013577,\n",
       "        30.54013577,  30.54013577,  30.54013577,  30.54013577,\n",
       "        30.54013577,  30.54013577,  30.54013577,  30.54013577,\n",
       "        30.54013577,  30.54013577,  30.54013577,  30.54013577,\n",
       "        30.54013577,  30.54013577,  30.54013577,  30.54013577,\n",
       "        30.54013577,  30.54013577,  30.54013577,  30.54013577,\n",
       "        30.54013577,  30.54013577,  30.54013577,  30.54013577,\n",
       "        30.54013577,  30.54013577,  30.54013577,  30.54013577,\n",
       "        30.54013577,  30.54013577,  30.54013577,  30.54013577,\n",
       "        30.54013577,  30.54013577,  30.54013577,  30.54013577,\n",
       "        30.54013577,  30.54013577,  30.54013577,  30.54013577,\n",
       "        30.54013577,  30.54013577,  30.54013577,  30.54013577,\n",
       "        30.54013577,  30.54013577,  30.54013577,  30.54013577,\n",
       "        30.54013577,  30.54013577,  30.54013577,  30.54013577,\n",
       "        30.54013577,  30.54013577,  30.54013577,  30.54013577,\n",
       "        30.54013577,  30.54013577,  30.54013577,  30.54013577,\n",
       "        30.54013577,  30.54013577,  30.54013577,  30.54013577,\n",
       "        30.54013577,  30.54013577,  30.54013577,  30.54013577,\n",
       "        30.54013577,  30.54013577,  30.54013577,  30.54013577,\n",
       "        30.54013577,  30.54013577,  30.54013577,  30.54013577,\n",
       "        30.54013577,  30.54013577,  30.54013577,  30.54013577,\n",
       "        30.54013577,  30.54013577,  30.54013577,  30.54013577,\n",
       "        30.54013577,  30.54013577,  30.54013577,  30.54013577,\n",
       "        30.54013577,  30.54013577])"
      ]
     },
     "execution_count": 140,
     "metadata": {},
     "output_type": "execute_result"
    }
   ],
   "source": [
    "avg_obr = [np.mean(y_train)] * len(y_test)\n",
    "avg_obr = np.asarray(avg_obr)\n",
    "avg_obr"
   ]
  },
  {
   "cell_type": "markdown",
   "metadata": {},
   "source": [
    "## Initial Regression"
   ]
  },
  {
   "cell_type": "code",
   "execution_count": 141,
   "metadata": {
    "collapsed": true
   },
   "outputs": [],
   "source": [
    "from sklearn import linear_model\n",
    "from sklearn.model_selection import cross_val_score\n",
    "\n",
    "reg = linear_model.LinearRegression()"
   ]
  },
  {
   "cell_type": "code",
   "execution_count": 341,
   "metadata": {},
   "outputs": [
    {
     "data": {
      "text/plain": [
       "0.72874949747306439"
      ]
     },
     "execution_count": 341,
     "metadata": {},
     "output_type": "execute_result"
    }
   ],
   "source": [
    "reg_cv = cross_val_score(reg,X_train,y_train,cv=5)\n",
    "reg_cv.mean()"
   ]
  },
  {
   "cell_type": "markdown",
   "metadata": {},
   "source": [
    "## Recursive Feature Selection"
   ]
  },
  {
   "cell_type": "code",
   "execution_count": 342,
   "metadata": {
    "scrolled": true
   },
   "outputs": [
    {
     "data": {
      "text/plain": [
       "57"
      ]
     },
     "execution_count": 342,
     "metadata": {},
     "output_type": "execute_result"
    }
   ],
   "source": [
    "from sklearn.feature_selection import RFE\n",
    "import numpy as np\n",
    "bestscore = {}\n",
    "for i in np.arange(1,100):\n",
    "    selector = RFE(reg,i)\n",
    "    X_kbest = selector.fit_transform(X_train,y_train.ravel())\n",
    "    cv5_results_fs = cross_val_score(reg,X_kbest,y_train,cv=5)\n",
    "    bestscore.update({i:cv5_results_fs.mean()})\n",
    "max(bestscore, key=bestscore.get)"
   ]
  },
  {
   "cell_type": "code",
   "execution_count": 343,
   "metadata": {},
   "outputs": [
    {
     "data": {
      "text/plain": [
       "0.73647827215949135"
      ]
     },
     "execution_count": 343,
     "metadata": {},
     "output_type": "execute_result"
    }
   ],
   "source": [
    "selector = RFE(reg,57)\n",
    "X_kbest = selector.fit_transform(X_train,y_train.ravel())\n",
    "cv5_results_fs = cross_val_score(reg,X_kbest,y_train,cv=5)\n",
    "cv5_results_fs.mean()"
   ]
  },
  {
   "cell_type": "code",
   "execution_count": 344,
   "metadata": {},
   "outputs": [
    {
     "data": {
      "text/plain": [
       "array([False,  True, False,  True, False, False,  True,  True, False,\n",
       "        True,  True,  True,  True,  True, False, False, False, False,\n",
       "        True,  True,  True,  True,  True,  True,  True,  True,  True,\n",
       "        True,  True, False, False,  True, False,  True,  True,  True,\n",
       "        True,  True, False,  True,  True,  True,  True,  True, False,\n",
       "        True, False,  True,  True,  True,  True, False, False, False,\n",
       "       False,  True,  True,  True,  True,  True, False, False, False,\n",
       "       False, False, False, False, False, False, False, False, False,\n",
       "       False,  True,  True,  True,  True,  True, False,  True,  True,\n",
       "        True,  True,  True,  True, False, False, False,  True,  True,\n",
       "       False,  True, False,  True,  True], dtype=bool)"
      ]
     },
     "execution_count": 344,
     "metadata": {},
     "output_type": "execute_result"
    }
   ],
   "source": [
    "mask = selector.get_support()\n",
    "mask"
   ]
  },
  {
   "cell_type": "code",
   "execution_count": 345,
   "metadata": {},
   "outputs": [
    {
     "data": {
      "text/plain": [
       "Index(['PCT_LACCESS_LOWI10', 'PCT_LACCESS_SENIORS10', 'PCT_SNAP09',\n",
       "       'PCT_SNAP14', 'PC_SNAPBEN10', 'SNAP_PART_RATE08', 'SNAP_PART_RATE10',\n",
       "       'SNAP_OAPP00', 'SNAP_OAPP05', 'SNAP_VEHEXCL00', 'SNAP_VEHEXCL05',\n",
       "       'SNAP_VEHEXCL10', 'SNAP_BBCE00', 'SNAP_BBCE05', 'SNAP_BBCE10',\n",
       "       'SNAP_REPORTSIMPLE00', 'SNAP_REPORTSIMPLE05', 'SNAP_REPORTSIMPLE10',\n",
       "       'PCT_NSLP09', 'PCT_FREE_LUNCH06', 'PCT_REDUCED_LUNCH10', 'PCT_SFSP09',\n",
       "       'PCT_WIC09', 'PCT_CACFP09', 'FOODINSEC_00_02', 'FOODINSEC_07_09',\n",
       "       'VLFOODSEC_00_02', 'VLFOODSEC_07_09', 'VLFOODSEC_10_12',\n",
       "       'FOODINSEC_CHILD_01_07', 'FOODINSEC_CHILD_03_11', 'SODA_PRICE10',\n",
       "       'SODATAX_VENDM11', 'CHIPSTAX_STORES11', 'CHIPSTAX_VENDM11',\n",
       "       'FOOD_TAX11', 'FSRPTH12', 'PC_FFRSALES02', 'PC_FFRSALES07',\n",
       "       'PC_FSRSALES02', 'PC_FSRSALES07', 'PCT_NHWHITE10', 'PCT_NHBLACK10',\n",
       "       'PCT_HISP10', 'PCT_NHASIAN10', 'PCT_NHNA10', 'PCT_65OLDER10',\n",
       "       'PCT_18YOUNGER10', 'MEDHHINC10', 'POVRATE10', 'PERPOV10',\n",
       "       'CHILDPOVRATE10', 'PCT_DIABETES_ADULTS09', 'PCT_DIABETES_ADULTS10',\n",
       "       'RECFAC12', 'RECFACPTH12', 'NATAMEN'],\n",
       "      dtype='object')"
      ]
     },
     "execution_count": 345,
     "metadata": {},
     "output_type": "execute_result"
    }
   ],
   "source": [
    "new_features = dependent.columns[mask]\n",
    "new_features"
   ]
  },
  {
   "cell_type": "markdown",
   "metadata": {},
   "source": [
    "## Implement VIF"
   ]
  },
  {
   "cell_type": "code",
   "execution_count": 355,
   "metadata": {
    "scrolled": false
   },
   "outputs": [
    {
     "name": "stderr",
     "output_type": "stream",
     "text": [
      "/Users/silaswong/anaconda/lib/python3.6/site-packages/statsmodels/regression/linear_model.py:1388: RuntimeWarning: invalid value encountered in double_scalars\n",
      "  return 1 - self.ssr/self.uncentered_tss\n",
      "/Users/silaswong/anaconda/lib/python3.6/site-packages/statsmodels/stats/outliers_influence.py:167: RuntimeWarning: divide by zero encountered in double_scalars\n",
      "  vif = 1. / (1. - r_squared_i)\n"
     ]
    },
    {
     "data": {
      "text/html": [
       "<div>\n",
       "<style>\n",
       "    .dataframe thead tr:only-child th {\n",
       "        text-align: right;\n",
       "    }\n",
       "\n",
       "    .dataframe thead th {\n",
       "        text-align: left;\n",
       "    }\n",
       "\n",
       "    .dataframe tbody tr th {\n",
       "        vertical-align: top;\n",
       "    }\n",
       "</style>\n",
       "<table border=\"1\" class=\"dataframe\">\n",
       "  <thead>\n",
       "    <tr style=\"text-align: right;\">\n",
       "      <th></th>\n",
       "      <th>VIF</th>\n",
       "      <th>features</th>\n",
       "    </tr>\n",
       "  </thead>\n",
       "  <tbody>\n",
       "    <tr>\n",
       "      <th>35</th>\n",
       "      <td>inf</td>\n",
       "      <td>FOOD_TAX11</td>\n",
       "    </tr>\n",
       "    <tr>\n",
       "      <th>33</th>\n",
       "      <td>inf</td>\n",
       "      <td>CHIPSTAX_STORES11</td>\n",
       "    </tr>\n",
       "    <tr>\n",
       "      <th>41</th>\n",
       "      <td>203.983883</td>\n",
       "      <td>PCT_NHWHITE10</td>\n",
       "    </tr>\n",
       "    <tr>\n",
       "      <th>42</th>\n",
       "      <td>108.604222</td>\n",
       "      <td>PCT_NHBLACK10</td>\n",
       "    </tr>\n",
       "    <tr>\n",
       "      <th>43</th>\n",
       "      <td>93.430830</td>\n",
       "      <td>PCT_HISP10</td>\n",
       "    </tr>\n",
       "    <tr>\n",
       "      <th>2</th>\n",
       "      <td>56.420178</td>\n",
       "      <td>PCT_SNAP09</td>\n",
       "    </tr>\n",
       "    <tr>\n",
       "      <th>29</th>\n",
       "      <td>54.600022</td>\n",
       "      <td>FOODINSEC_CHILD_01_07</td>\n",
       "    </tr>\n",
       "    <tr>\n",
       "      <th>24</th>\n",
       "      <td>51.251154</td>\n",
       "      <td>FOODINSEC_00_02</td>\n",
       "    </tr>\n",
       "    <tr>\n",
       "      <th>30</th>\n",
       "      <td>46.991514</td>\n",
       "      <td>FOODINSEC_CHILD_03_11</td>\n",
       "    </tr>\n",
       "    <tr>\n",
       "      <th>38</th>\n",
       "      <td>45.624391</td>\n",
       "      <td>PC_FFRSALES07</td>\n",
       "    </tr>\n",
       "    <tr>\n",
       "      <th>25</th>\n",
       "      <td>38.305835</td>\n",
       "      <td>FOODINSEC_07_09</td>\n",
       "    </tr>\n",
       "    <tr>\n",
       "      <th>45</th>\n",
       "      <td>37.243249</td>\n",
       "      <td>PCT_NHNA10</td>\n",
       "    </tr>\n",
       "    <tr>\n",
       "      <th>3</th>\n",
       "      <td>33.880900</td>\n",
       "      <td>PCT_SNAP14</td>\n",
       "    </tr>\n",
       "    <tr>\n",
       "      <th>40</th>\n",
       "      <td>31.347195</td>\n",
       "      <td>PC_FSRSALES07</td>\n",
       "    </tr>\n",
       "    <tr>\n",
       "      <th>37</th>\n",
       "      <td>29.802423</td>\n",
       "      <td>PC_FFRSALES02</td>\n",
       "    </tr>\n",
       "    <tr>\n",
       "      <th>26</th>\n",
       "      <td>28.074552</td>\n",
       "      <td>VLFOODSEC_00_02</td>\n",
       "    </tr>\n",
       "    <tr>\n",
       "      <th>39</th>\n",
       "      <td>23.778596</td>\n",
       "      <td>PC_FSRSALES02</td>\n",
       "    </tr>\n",
       "    <tr>\n",
       "      <th>11</th>\n",
       "      <td>23.468755</td>\n",
       "      <td>SNAP_VEHEXCL10</td>\n",
       "    </tr>\n",
       "    <tr>\n",
       "      <th>5</th>\n",
       "      <td>21.283088</td>\n",
       "      <td>SNAP_PART_RATE08</td>\n",
       "    </tr>\n",
       "    <tr>\n",
       "      <th>51</th>\n",
       "      <td>18.691176</td>\n",
       "      <td>CHILDPOVRATE10</td>\n",
       "    </tr>\n",
       "    <tr>\n",
       "      <th>49</th>\n",
       "      <td>18.104324</td>\n",
       "      <td>POVRATE10</td>\n",
       "    </tr>\n",
       "    <tr>\n",
       "      <th>28</th>\n",
       "      <td>15.563176</td>\n",
       "      <td>VLFOODSEC_10_12</td>\n",
       "    </tr>\n",
       "    <tr>\n",
       "      <th>18</th>\n",
       "      <td>14.015599</td>\n",
       "      <td>PCT_NSLP09</td>\n",
       "    </tr>\n",
       "    <tr>\n",
       "      <th>27</th>\n",
       "      <td>13.546639</td>\n",
       "      <td>VLFOODSEC_07_09</td>\n",
       "    </tr>\n",
       "    <tr>\n",
       "      <th>52</th>\n",
       "      <td>13.215377</td>\n",
       "      <td>PCT_DIABETES_ADULTS09</td>\n",
       "    </tr>\n",
       "    <tr>\n",
       "      <th>53</th>\n",
       "      <td>12.270388</td>\n",
       "      <td>PCT_DIABETES_ADULTS10</td>\n",
       "    </tr>\n",
       "    <tr>\n",
       "      <th>6</th>\n",
       "      <td>11.679826</td>\n",
       "      <td>SNAP_PART_RATE10</td>\n",
       "    </tr>\n",
       "    <tr>\n",
       "      <th>22</th>\n",
       "      <td>11.330610</td>\n",
       "      <td>PCT_WIC09</td>\n",
       "    </tr>\n",
       "    <tr>\n",
       "      <th>10</th>\n",
       "      <td>10.537219</td>\n",
       "      <td>SNAP_VEHEXCL05</td>\n",
       "    </tr>\n",
       "    <tr>\n",
       "      <th>13</th>\n",
       "      <td>9.274880</td>\n",
       "      <td>SNAP_BBCE05</td>\n",
       "    </tr>\n",
       "    <tr>\n",
       "      <th>16</th>\n",
       "      <td>8.004774</td>\n",
       "      <td>SNAP_REPORTSIMPLE05</td>\n",
       "    </tr>\n",
       "    <tr>\n",
       "      <th>44</th>\n",
       "      <td>7.469184</td>\n",
       "      <td>PCT_NHASIAN10</td>\n",
       "    </tr>\n",
       "    <tr>\n",
       "      <th>9</th>\n",
       "      <td>7.314699</td>\n",
       "      <td>SNAP_VEHEXCL00</td>\n",
       "    </tr>\n",
       "    <tr>\n",
       "      <th>48</th>\n",
       "      <td>7.043759</td>\n",
       "      <td>MEDHHINC10</td>\n",
       "    </tr>\n",
       "    <tr>\n",
       "      <th>1</th>\n",
       "      <td>7.040279</td>\n",
       "      <td>PCT_LACCESS_SENIORS10</td>\n",
       "    </tr>\n",
       "    <tr>\n",
       "      <th>12</th>\n",
       "      <td>7.026188</td>\n",
       "      <td>SNAP_BBCE00</td>\n",
       "    </tr>\n",
       "    <tr>\n",
       "      <th>34</th>\n",
       "      <td>6.532779</td>\n",
       "      <td>CHIPSTAX_VENDM11</td>\n",
       "    </tr>\n",
       "    <tr>\n",
       "      <th>0</th>\n",
       "      <td>6.249390</td>\n",
       "      <td>PCT_LACCESS_LOWI10</td>\n",
       "    </tr>\n",
       "    <tr>\n",
       "      <th>19</th>\n",
       "      <td>5.261502</td>\n",
       "      <td>PCT_FREE_LUNCH06</td>\n",
       "    </tr>\n",
       "    <tr>\n",
       "      <th>17</th>\n",
       "      <td>5.235278</td>\n",
       "      <td>SNAP_REPORTSIMPLE10</td>\n",
       "    </tr>\n",
       "    <tr>\n",
       "      <th>32</th>\n",
       "      <td>4.967339</td>\n",
       "      <td>SODATAX_VENDM11</td>\n",
       "    </tr>\n",
       "    <tr>\n",
       "      <th>23</th>\n",
       "      <td>4.849608</td>\n",
       "      <td>PCT_CACFP09</td>\n",
       "    </tr>\n",
       "    <tr>\n",
       "      <th>46</th>\n",
       "      <td>4.698135</td>\n",
       "      <td>PCT_65OLDER10</td>\n",
       "    </tr>\n",
       "    <tr>\n",
       "      <th>4</th>\n",
       "      <td>4.675258</td>\n",
       "      <td>PC_SNAPBEN10</td>\n",
       "    </tr>\n",
       "    <tr>\n",
       "      <th>8</th>\n",
       "      <td>4.082790</td>\n",
       "      <td>SNAP_OAPP05</td>\n",
       "    </tr>\n",
       "    <tr>\n",
       "      <th>14</th>\n",
       "      <td>3.930979</td>\n",
       "      <td>SNAP_BBCE10</td>\n",
       "    </tr>\n",
       "    <tr>\n",
       "      <th>47</th>\n",
       "      <td>3.211169</td>\n",
       "      <td>PCT_18YOUNGER10</td>\n",
       "    </tr>\n",
       "    <tr>\n",
       "      <th>56</th>\n",
       "      <td>3.086046</td>\n",
       "      <td>NATAMEN</td>\n",
       "    </tr>\n",
       "    <tr>\n",
       "      <th>31</th>\n",
       "      <td>2.783771</td>\n",
       "      <td>SODA_PRICE10</td>\n",
       "    </tr>\n",
       "    <tr>\n",
       "      <th>21</th>\n",
       "      <td>2.169079</td>\n",
       "      <td>PCT_SFSP09</td>\n",
       "    </tr>\n",
       "    <tr>\n",
       "      <th>50</th>\n",
       "      <td>2.118733</td>\n",
       "      <td>PERPOV10</td>\n",
       "    </tr>\n",
       "    <tr>\n",
       "      <th>20</th>\n",
       "      <td>1.838986</td>\n",
       "      <td>PCT_REDUCED_LUNCH10</td>\n",
       "    </tr>\n",
       "    <tr>\n",
       "      <th>54</th>\n",
       "      <td>1.575812</td>\n",
       "      <td>RECFAC12</td>\n",
       "    </tr>\n",
       "    <tr>\n",
       "      <th>36</th>\n",
       "      <td>1.530487</td>\n",
       "      <td>FSRPTH12</td>\n",
       "    </tr>\n",
       "    <tr>\n",
       "      <th>55</th>\n",
       "      <td>1.171468</td>\n",
       "      <td>RECFACPTH12</td>\n",
       "    </tr>\n",
       "    <tr>\n",
       "      <th>7</th>\n",
       "      <td>NaN</td>\n",
       "      <td>SNAP_OAPP00</td>\n",
       "    </tr>\n",
       "    <tr>\n",
       "      <th>15</th>\n",
       "      <td>NaN</td>\n",
       "      <td>SNAP_REPORTSIMPLE00</td>\n",
       "    </tr>\n",
       "  </tbody>\n",
       "</table>\n",
       "</div>"
      ],
      "text/plain": [
       "           VIF               features\n",
       "35         inf             FOOD_TAX11\n",
       "33         inf      CHIPSTAX_STORES11\n",
       "41  203.983883          PCT_NHWHITE10\n",
       "42  108.604222          PCT_NHBLACK10\n",
       "43   93.430830             PCT_HISP10\n",
       "2    56.420178             PCT_SNAP09\n",
       "29   54.600022  FOODINSEC_CHILD_01_07\n",
       "24   51.251154        FOODINSEC_00_02\n",
       "30   46.991514  FOODINSEC_CHILD_03_11\n",
       "38   45.624391          PC_FFRSALES07\n",
       "25   38.305835        FOODINSEC_07_09\n",
       "45   37.243249             PCT_NHNA10\n",
       "3    33.880900             PCT_SNAP14\n",
       "40   31.347195          PC_FSRSALES07\n",
       "37   29.802423          PC_FFRSALES02\n",
       "26   28.074552        VLFOODSEC_00_02\n",
       "39   23.778596          PC_FSRSALES02\n",
       "11   23.468755         SNAP_VEHEXCL10\n",
       "5    21.283088       SNAP_PART_RATE08\n",
       "51   18.691176         CHILDPOVRATE10\n",
       "49   18.104324              POVRATE10\n",
       "28   15.563176        VLFOODSEC_10_12\n",
       "18   14.015599             PCT_NSLP09\n",
       "27   13.546639        VLFOODSEC_07_09\n",
       "52   13.215377  PCT_DIABETES_ADULTS09\n",
       "53   12.270388  PCT_DIABETES_ADULTS10\n",
       "6    11.679826       SNAP_PART_RATE10\n",
       "22   11.330610              PCT_WIC09\n",
       "10   10.537219         SNAP_VEHEXCL05\n",
       "13    9.274880            SNAP_BBCE05\n",
       "16    8.004774    SNAP_REPORTSIMPLE05\n",
       "44    7.469184          PCT_NHASIAN10\n",
       "9     7.314699         SNAP_VEHEXCL00\n",
       "48    7.043759             MEDHHINC10\n",
       "1     7.040279  PCT_LACCESS_SENIORS10\n",
       "12    7.026188            SNAP_BBCE00\n",
       "34    6.532779       CHIPSTAX_VENDM11\n",
       "0     6.249390     PCT_LACCESS_LOWI10\n",
       "19    5.261502       PCT_FREE_LUNCH06\n",
       "17    5.235278    SNAP_REPORTSIMPLE10\n",
       "32    4.967339        SODATAX_VENDM11\n",
       "23    4.849608            PCT_CACFP09\n",
       "46    4.698135          PCT_65OLDER10\n",
       "4     4.675258           PC_SNAPBEN10\n",
       "8     4.082790            SNAP_OAPP05\n",
       "14    3.930979            SNAP_BBCE10\n",
       "47    3.211169        PCT_18YOUNGER10\n",
       "56    3.086046                NATAMEN\n",
       "31    2.783771           SODA_PRICE10\n",
       "21    2.169079             PCT_SFSP09\n",
       "50    2.118733               PERPOV10\n",
       "20    1.838986    PCT_REDUCED_LUNCH10\n",
       "54    1.575812               RECFAC12\n",
       "36    1.530487               FSRPTH12\n",
       "55    1.171468            RECFACPTH12\n",
       "7          NaN            SNAP_OAPP00\n",
       "15         NaN    SNAP_REPORTSIMPLE00"
      ]
     },
     "execution_count": 355,
     "metadata": {},
     "output_type": "execute_result"
    }
   ],
   "source": [
    "import statsmodels.api as sm\n",
    "from statsmodels.stats.outliers_influence import variance_inflation_factor\n",
    "vif = pd.DataFrame()\n",
    "vif[\"VIF\"] = [variance_inflation_factor(X_kbest, i) for i in range(X_kbest.shape[1])]\n",
    "vif[\"features\"] = new_features\n",
    "vif.sort_values('VIF',ascending=False)"
   ]
  },
  {
   "cell_type": "code",
   "execution_count": 380,
   "metadata": {
    "collapsed": true,
    "scrolled": true
   },
   "outputs": [],
   "source": [
    "#remove highest VIF\n",
    "X_kbest_df = pd.DataFrame(X_kbest,columns=new_features)\n",
    "X_VIF = X_kbest_df.drop(['PCT_NHWHITE10'],axis=1)"
   ]
  },
  {
   "cell_type": "markdown",
   "metadata": {},
   "source": [
    "## Regression with VIF selected features"
   ]
  },
  {
   "cell_type": "code",
   "execution_count": 381,
   "metadata": {},
   "outputs": [
    {
     "data": {
      "text/plain": [
       "0.73686101838150975"
      ]
     },
     "execution_count": 381,
     "metadata": {},
     "output_type": "execute_result"
    }
   ],
   "source": [
    "cv5_results_vif = cross_val_score(reg,X_VIF.as_matrix(),y_train,cv=5)\n",
    "cv5_results_vif.mean()"
   ]
  },
  {
   "cell_type": "markdown",
   "metadata": {},
   "source": [
    "## Ridge Regression with VIF selected features"
   ]
  },
  {
   "cell_type": "code",
   "execution_count": 382,
   "metadata": {
    "collapsed": true
   },
   "outputs": [],
   "source": [
    "from sklearn.linear_model import Ridge\n",
    "from sklearn.model_selection import GridSearchCV"
   ]
  },
  {
   "cell_type": "code",
   "execution_count": 383,
   "metadata": {
    "collapsed": true
   },
   "outputs": [],
   "source": [
    "param_grid = {'alpha':[.001,.01,.1,1,10,100,1000]}\n",
    "ridge = Ridge()\n",
    "ridge_cv = GridSearchCV(ridge,param_grid,cv=5)"
   ]
  },
  {
   "cell_type": "code",
   "execution_count": 384,
   "metadata": {},
   "outputs": [
    {
     "data": {
      "text/plain": [
       "GridSearchCV(cv=5, error_score='raise',\n",
       "       estimator=Ridge(alpha=1.0, copy_X=True, fit_intercept=True, max_iter=None,\n",
       "   normalize=False, random_state=None, solver='auto', tol=0.001),\n",
       "       fit_params={}, iid=True, n_jobs=1,\n",
       "       param_grid={'alpha': [0.001, 0.01, 0.1, 1, 10, 100, 1000]},\n",
       "       pre_dispatch='2*n_jobs', refit=True, return_train_score=True,\n",
       "       scoring=None, verbose=0)"
      ]
     },
     "execution_count": 384,
     "metadata": {},
     "output_type": "execute_result"
    }
   ],
   "source": [
    "ridge_cv.fit(X_VIF.as_matrix(),y_train)"
   ]
  },
  {
   "cell_type": "code",
   "execution_count": 385,
   "metadata": {},
   "outputs": [
    {
     "data": {
      "text/plain": [
       "{'alpha': 10}"
      ]
     },
     "execution_count": 385,
     "metadata": {},
     "output_type": "execute_result"
    }
   ],
   "source": [
    "ridge_cv.best_params_"
   ]
  },
  {
   "cell_type": "code",
   "execution_count": 386,
   "metadata": {},
   "outputs": [
    {
     "data": {
      "text/plain": [
       "0.73773609566570963"
      ]
     },
     "execution_count": 386,
     "metadata": {},
     "output_type": "execute_result"
    }
   ],
   "source": [
    "ridge_cv.best_score_"
   ]
  },
  {
   "cell_type": "markdown",
   "metadata": {},
   "source": [
    "## Gradient Boosting with VIF selected features"
   ]
  },
  {
   "cell_type": "code",
   "execution_count": 387,
   "metadata": {
    "collapsed": true
   },
   "outputs": [],
   "source": [
    "from sklearn.ensemble import GradientBoostingRegressor"
   ]
  },
  {
   "cell_type": "code",
   "execution_count": 388,
   "metadata": {
    "collapsed": true
   },
   "outputs": [],
   "source": [
    "gbr = GradientBoostingRegressor()"
   ]
  },
  {
   "cell_type": "code",
   "execution_count": 389,
   "metadata": {
    "collapsed": true
   },
   "outputs": [],
   "source": [
    "import numpy as np\n",
    "param_grid_gbr = {'max_depth': np.arange(3,5), 'n_estimators': [100,150]}\n",
    "gbr_cv = GridSearchCV(gbr,param_grid_gbr,cv=5)"
   ]
  },
  {
   "cell_type": "code",
   "execution_count": 390,
   "metadata": {
    "scrolled": false
   },
   "outputs": [
    {
     "data": {
      "text/plain": [
       "GridSearchCV(cv=5, error_score='raise',\n",
       "       estimator=GradientBoostingRegressor(alpha=0.9, criterion='friedman_mse', init=None,\n",
       "             learning_rate=0.1, loss='ls', max_depth=3, max_features=None,\n",
       "             max_leaf_nodes=None, min_impurity_split=1e-07,\n",
       "             min_samples_leaf=1, min_samples_split=2,\n",
       "             min_weight_fraction_leaf=0.0, n_estimators=100,\n",
       "             presort='auto', random_state=None, subsample=1.0, verbose=0,\n",
       "             warm_start=False),\n",
       "       fit_params={}, iid=True, n_jobs=1,\n",
       "       param_grid={'max_depth': array([3, 4]), 'n_estimators': [100, 150]},\n",
       "       pre_dispatch='2*n_jobs', refit=True, return_train_score=True,\n",
       "       scoring=None, verbose=0)"
      ]
     },
     "execution_count": 390,
     "metadata": {},
     "output_type": "execute_result"
    }
   ],
   "source": [
    "gbr_cv.fit(X_VIF.as_matrix(),y_train.ravel())"
   ]
  },
  {
   "cell_type": "code",
   "execution_count": 391,
   "metadata": {},
   "outputs": [
    {
     "data": {
      "text/plain": [
       "{'max_depth': 3, 'n_estimators': 150}"
      ]
     },
     "execution_count": 391,
     "metadata": {},
     "output_type": "execute_result"
    }
   ],
   "source": [
    "gbr_cv.best_params_"
   ]
  },
  {
   "cell_type": "code",
   "execution_count": 392,
   "metadata": {},
   "outputs": [
    {
     "data": {
      "text/plain": [
       "0.75344790605582823"
      ]
     },
     "execution_count": 392,
     "metadata": {},
     "output_type": "execute_result"
    }
   ],
   "source": [
    "gbr_cv.best_score_"
   ]
  },
  {
   "cell_type": "code",
   "execution_count": 393,
   "metadata": {
    "collapsed": true
   },
   "outputs": [],
   "source": [
    "param_grid_gbr2 = {'max_depth': np.arange(3,5), 'n_estimators': [150,200,250,300,500,1000], 'learning_rate': [.0001,.001,.01,.1,1]}"
   ]
  },
  {
   "cell_type": "code",
   "execution_count": 394,
   "metadata": {
    "collapsed": true
   },
   "outputs": [],
   "source": [
    "gbr_cv2 = GridSearchCV(gbr,param_grid_gbr2,cv=5)"
   ]
  },
  {
   "cell_type": "code",
   "execution_count": 395,
   "metadata": {
    "scrolled": true
   },
   "outputs": [
    {
     "data": {
      "text/plain": [
       "GridSearchCV(cv=5, error_score='raise',\n",
       "       estimator=GradientBoostingRegressor(alpha=0.9, criterion='friedman_mse', init=None,\n",
       "             learning_rate=0.1, loss='ls', max_depth=3, max_features=None,\n",
       "             max_leaf_nodes=None, min_impurity_split=1e-07,\n",
       "             min_samples_leaf=1, min_samples_split=2,\n",
       "             min_weight_fraction_leaf=0.0, n_estimators=100,\n",
       "             presort='auto', random_state=None, subsample=1.0, verbose=0,\n",
       "             warm_start=False),\n",
       "       fit_params={}, iid=True, n_jobs=1,\n",
       "       param_grid={'max_depth': array([3, 4]), 'n_estimators': [150, 200, 250, 300, 500, 1000], 'learning_rate': [0.0001, 0.001, 0.01, 0.1, 1]},\n",
       "       pre_dispatch='2*n_jobs', refit=True, return_train_score=True,\n",
       "       scoring=None, verbose=0)"
      ]
     },
     "execution_count": 395,
     "metadata": {},
     "output_type": "execute_result"
    }
   ],
   "source": [
    "gbr_cv2.fit(X_VIF.as_matrix(),y_train.ravel())"
   ]
  },
  {
   "cell_type": "code",
   "execution_count": 396,
   "metadata": {},
   "outputs": [
    {
     "data": {
      "text/plain": [
       "{'learning_rate': 0.1, 'max_depth': 3, 'n_estimators': 200}"
      ]
     },
     "execution_count": 396,
     "metadata": {},
     "output_type": "execute_result"
    }
   ],
   "source": [
    "gbr_cv2.best_params_"
   ]
  },
  {
   "cell_type": "code",
   "execution_count": 397,
   "metadata": {},
   "outputs": [
    {
     "data": {
      "text/plain": [
       "0.75392864018287953"
      ]
     },
     "execution_count": 397,
     "metadata": {},
     "output_type": "execute_result"
    }
   ],
   "source": [
    "gbr_cv2.best_score_"
   ]
  },
  {
   "cell_type": "code",
   "execution_count": 271,
   "metadata": {},
   "outputs": [
    {
     "ename": "ValueError",
     "evalue": "Number of features of the model must match the input. Model n_features is 14 and input n_features is 95 ",
     "output_type": "error",
     "traceback": [
      "\u001b[0;31m---------------------------------------------------------------------------\u001b[0m",
      "\u001b[0;31mValueError\u001b[0m                                Traceback (most recent call last)",
      "\u001b[0;32m<ipython-input-271-6a289d92466f>\u001b[0m in \u001b[0;36m<module>\u001b[0;34m()\u001b[0m\n\u001b[0;32m----> 1\u001b[0;31m \u001b[0mgbr_cv\u001b[0m\u001b[0;34m.\u001b[0m\u001b[0mscore\u001b[0m\u001b[0;34m(\u001b[0m\u001b[0mX_test\u001b[0m\u001b[0;34m,\u001b[0m\u001b[0my_test\u001b[0m\u001b[0;34m)\u001b[0m\u001b[0;34m\u001b[0m\u001b[0m\n\u001b[0m",
      "\u001b[0;32m/Users/silaswong/anaconda/lib/python3.6/site-packages/sklearn/model_selection/_search.py\u001b[0m in \u001b[0;36mscore\u001b[0;34m(self, X, y)\u001b[0m\n\u001b[1;32m    420\u001b[0m                              \u001b[0;34m\"and the estimator doesn't provide one %s\"\u001b[0m\u001b[0;34m\u001b[0m\u001b[0m\n\u001b[1;32m    421\u001b[0m                              % self.best_estimator_)\n\u001b[0;32m--> 422\u001b[0;31m         \u001b[0;32mreturn\u001b[0m \u001b[0mself\u001b[0m\u001b[0;34m.\u001b[0m\u001b[0mscorer_\u001b[0m\u001b[0;34m(\u001b[0m\u001b[0mself\u001b[0m\u001b[0;34m.\u001b[0m\u001b[0mbest_estimator_\u001b[0m\u001b[0;34m,\u001b[0m \u001b[0mX\u001b[0m\u001b[0;34m,\u001b[0m \u001b[0my\u001b[0m\u001b[0;34m)\u001b[0m\u001b[0;34m\u001b[0m\u001b[0m\n\u001b[0m\u001b[1;32m    423\u001b[0m \u001b[0;34m\u001b[0m\u001b[0m\n\u001b[1;32m    424\u001b[0m     \u001b[0;32mdef\u001b[0m \u001b[0m_check_is_fitted\u001b[0m\u001b[0;34m(\u001b[0m\u001b[0mself\u001b[0m\u001b[0;34m,\u001b[0m \u001b[0mmethod_name\u001b[0m\u001b[0;34m)\u001b[0m\u001b[0;34m:\u001b[0m\u001b[0;34m\u001b[0m\u001b[0m\n",
      "\u001b[0;32m/Users/silaswong/anaconda/lib/python3.6/site-packages/sklearn/metrics/scorer.py\u001b[0m in \u001b[0;36m_passthrough_scorer\u001b[0;34m(estimator, *args, **kwargs)\u001b[0m\n\u001b[1;32m    217\u001b[0m \u001b[0;32mdef\u001b[0m \u001b[0m_passthrough_scorer\u001b[0m\u001b[0;34m(\u001b[0m\u001b[0mestimator\u001b[0m\u001b[0;34m,\u001b[0m \u001b[0;34m*\u001b[0m\u001b[0margs\u001b[0m\u001b[0;34m,\u001b[0m \u001b[0;34m**\u001b[0m\u001b[0mkwargs\u001b[0m\u001b[0;34m)\u001b[0m\u001b[0;34m:\u001b[0m\u001b[0;34m\u001b[0m\u001b[0m\n\u001b[1;32m    218\u001b[0m     \u001b[0;34m\"\"\"Function that wraps estimator.score\"\"\"\u001b[0m\u001b[0;34m\u001b[0m\u001b[0m\n\u001b[0;32m--> 219\u001b[0;31m     \u001b[0;32mreturn\u001b[0m \u001b[0mestimator\u001b[0m\u001b[0;34m.\u001b[0m\u001b[0mscore\u001b[0m\u001b[0;34m(\u001b[0m\u001b[0;34m*\u001b[0m\u001b[0margs\u001b[0m\u001b[0;34m,\u001b[0m \u001b[0;34m**\u001b[0m\u001b[0mkwargs\u001b[0m\u001b[0;34m)\u001b[0m\u001b[0;34m\u001b[0m\u001b[0m\n\u001b[0m\u001b[1;32m    220\u001b[0m \u001b[0;34m\u001b[0m\u001b[0m\n\u001b[1;32m    221\u001b[0m \u001b[0;34m\u001b[0m\u001b[0m\n",
      "\u001b[0;32m/Users/silaswong/anaconda/lib/python3.6/site-packages/sklearn/base.py\u001b[0m in \u001b[0;36mscore\u001b[0;34m(self, X, y, sample_weight)\u001b[0m\n\u001b[1;32m    384\u001b[0m \u001b[0;34m\u001b[0m\u001b[0m\n\u001b[1;32m    385\u001b[0m         \u001b[0;32mfrom\u001b[0m \u001b[0;34m.\u001b[0m\u001b[0mmetrics\u001b[0m \u001b[0;32mimport\u001b[0m \u001b[0mr2_score\u001b[0m\u001b[0;34m\u001b[0m\u001b[0m\n\u001b[0;32m--> 386\u001b[0;31m         return r2_score(y, self.predict(X), sample_weight=sample_weight,\n\u001b[0m\u001b[1;32m    387\u001b[0m                         multioutput='variance_weighted')\n\u001b[1;32m    388\u001b[0m \u001b[0;34m\u001b[0m\u001b[0m\n",
      "\u001b[0;32m/Users/silaswong/anaconda/lib/python3.6/site-packages/sklearn/ensemble/gradient_boosting.py\u001b[0m in \u001b[0;36mpredict\u001b[0;34m(self, X)\u001b[0m\n\u001b[1;32m   1850\u001b[0m         \"\"\"\n\u001b[1;32m   1851\u001b[0m         \u001b[0mX\u001b[0m \u001b[0;34m=\u001b[0m \u001b[0mcheck_array\u001b[0m\u001b[0;34m(\u001b[0m\u001b[0mX\u001b[0m\u001b[0;34m,\u001b[0m \u001b[0mdtype\u001b[0m\u001b[0;34m=\u001b[0m\u001b[0mDTYPE\u001b[0m\u001b[0;34m,\u001b[0m \u001b[0morder\u001b[0m\u001b[0;34m=\u001b[0m\u001b[0;34m\"C\"\u001b[0m\u001b[0;34m)\u001b[0m\u001b[0;34m\u001b[0m\u001b[0m\n\u001b[0;32m-> 1852\u001b[0;31m         \u001b[0;32mreturn\u001b[0m \u001b[0mself\u001b[0m\u001b[0;34m.\u001b[0m\u001b[0m_decision_function\u001b[0m\u001b[0;34m(\u001b[0m\u001b[0mX\u001b[0m\u001b[0;34m)\u001b[0m\u001b[0;34m.\u001b[0m\u001b[0mravel\u001b[0m\u001b[0;34m(\u001b[0m\u001b[0;34m)\u001b[0m\u001b[0;34m\u001b[0m\u001b[0m\n\u001b[0m\u001b[1;32m   1853\u001b[0m \u001b[0;34m\u001b[0m\u001b[0m\n\u001b[1;32m   1854\u001b[0m     \u001b[0;32mdef\u001b[0m \u001b[0mstaged_predict\u001b[0m\u001b[0;34m(\u001b[0m\u001b[0mself\u001b[0m\u001b[0;34m,\u001b[0m \u001b[0mX\u001b[0m\u001b[0;34m)\u001b[0m\u001b[0;34m:\u001b[0m\u001b[0;34m\u001b[0m\u001b[0m\n",
      "\u001b[0;32m/Users/silaswong/anaconda/lib/python3.6/site-packages/sklearn/ensemble/gradient_boosting.py\u001b[0m in \u001b[0;36m_decision_function\u001b[0;34m(self, X)\u001b[0m\n\u001b[1;32m   1122\u001b[0m         \u001b[0;31m# for use in inner loop, not raveling the output in single-class case,\u001b[0m\u001b[0;34m\u001b[0m\u001b[0;34m\u001b[0m\u001b[0m\n\u001b[1;32m   1123\u001b[0m         \u001b[0;31m# not doing input validation.\u001b[0m\u001b[0;34m\u001b[0m\u001b[0;34m\u001b[0m\u001b[0m\n\u001b[0;32m-> 1124\u001b[0;31m         \u001b[0mscore\u001b[0m \u001b[0;34m=\u001b[0m \u001b[0mself\u001b[0m\u001b[0;34m.\u001b[0m\u001b[0m_init_decision_function\u001b[0m\u001b[0;34m(\u001b[0m\u001b[0mX\u001b[0m\u001b[0;34m)\u001b[0m\u001b[0;34m\u001b[0m\u001b[0m\n\u001b[0m\u001b[1;32m   1125\u001b[0m         \u001b[0mpredict_stages\u001b[0m\u001b[0;34m(\u001b[0m\u001b[0mself\u001b[0m\u001b[0;34m.\u001b[0m\u001b[0mestimators_\u001b[0m\u001b[0;34m,\u001b[0m \u001b[0mX\u001b[0m\u001b[0;34m,\u001b[0m \u001b[0mself\u001b[0m\u001b[0;34m.\u001b[0m\u001b[0mlearning_rate\u001b[0m\u001b[0;34m,\u001b[0m \u001b[0mscore\u001b[0m\u001b[0;34m)\u001b[0m\u001b[0;34m\u001b[0m\u001b[0m\n\u001b[1;32m   1126\u001b[0m         \u001b[0;32mreturn\u001b[0m \u001b[0mscore\u001b[0m\u001b[0;34m\u001b[0m\u001b[0m\n",
      "\u001b[0;32m/Users/silaswong/anaconda/lib/python3.6/site-packages/sklearn/ensemble/gradient_boosting.py\u001b[0m in \u001b[0;36m_init_decision_function\u001b[0;34m(self, X)\u001b[0m\n\u001b[1;32m   1112\u001b[0m         \u001b[0;34m\"\"\"Check input and compute prediction of ``init``. \"\"\"\u001b[0m\u001b[0;34m\u001b[0m\u001b[0m\n\u001b[1;32m   1113\u001b[0m         \u001b[0mself\u001b[0m\u001b[0;34m.\u001b[0m\u001b[0m_check_initialized\u001b[0m\u001b[0;34m(\u001b[0m\u001b[0;34m)\u001b[0m\u001b[0;34m\u001b[0m\u001b[0m\n\u001b[0;32m-> 1114\u001b[0;31m         \u001b[0mX\u001b[0m \u001b[0;34m=\u001b[0m \u001b[0mself\u001b[0m\u001b[0;34m.\u001b[0m\u001b[0mestimators_\u001b[0m\u001b[0;34m[\u001b[0m\u001b[0;36m0\u001b[0m\u001b[0;34m,\u001b[0m \u001b[0;36m0\u001b[0m\u001b[0;34m]\u001b[0m\u001b[0;34m.\u001b[0m\u001b[0m_validate_X_predict\u001b[0m\u001b[0;34m(\u001b[0m\u001b[0mX\u001b[0m\u001b[0;34m,\u001b[0m \u001b[0mcheck_input\u001b[0m\u001b[0;34m=\u001b[0m\u001b[0;32mTrue\u001b[0m\u001b[0;34m)\u001b[0m\u001b[0;34m\u001b[0m\u001b[0m\n\u001b[0m\u001b[1;32m   1115\u001b[0m         \u001b[0;32mif\u001b[0m \u001b[0mX\u001b[0m\u001b[0;34m.\u001b[0m\u001b[0mshape\u001b[0m\u001b[0;34m[\u001b[0m\u001b[0;36m1\u001b[0m\u001b[0;34m]\u001b[0m \u001b[0;34m!=\u001b[0m \u001b[0mself\u001b[0m\u001b[0;34m.\u001b[0m\u001b[0mn_features\u001b[0m\u001b[0;34m:\u001b[0m\u001b[0;34m\u001b[0m\u001b[0m\n\u001b[1;32m   1116\u001b[0m             raise ValueError(\"X.shape[1] should be {0:d}, not {1:d}.\".format(\n",
      "\u001b[0;32m/Users/silaswong/anaconda/lib/python3.6/site-packages/sklearn/tree/tree.py\u001b[0m in \u001b[0;36m_validate_X_predict\u001b[0;34m(self, X, check_input)\u001b[0m\n\u001b[1;32m    374\u001b[0m                              \u001b[0;34m\"match the input. Model n_features is %s and \"\u001b[0m\u001b[0;34m\u001b[0m\u001b[0m\n\u001b[1;32m    375\u001b[0m                              \u001b[0;34m\"input n_features is %s \"\u001b[0m\u001b[0;34m\u001b[0m\u001b[0m\n\u001b[0;32m--> 376\u001b[0;31m                              % (self.n_features_, n_features))\n\u001b[0m\u001b[1;32m    377\u001b[0m \u001b[0;34m\u001b[0m\u001b[0m\n\u001b[1;32m    378\u001b[0m         \u001b[0;32mreturn\u001b[0m \u001b[0mX\u001b[0m\u001b[0;34m\u001b[0m\u001b[0m\n",
      "\u001b[0;31mValueError\u001b[0m: Number of features of the model must match the input. Model n_features is 14 and input n_features is 95 "
     ]
    }
   ],
   "source": [
    "gbr_cv.score(X_test,y_test)"
   ]
  },
  {
   "cell_type": "code",
   "execution_count": 272,
   "metadata": {},
   "outputs": [
    {
     "data": {
      "text/plain": [
       "-1.4690050034172757e+30"
      ]
     },
     "execution_count": 272,
     "metadata": {},
     "output_type": "execute_result"
    }
   ],
   "source": [
    "from sklearn.metrics import r2_score\n",
    "r_squared = r2_score(avg_obr,y_test)\n",
    "r_squared"
   ]
  },
  {
   "cell_type": "code",
   "execution_count": 275,
   "metadata": {},
   "outputs": [
    {
     "data": {
      "text/plain": [
       "786"
      ]
     },
     "execution_count": 275,
     "metadata": {},
     "output_type": "execute_result"
    }
   ],
   "source": [
    "X_test\n",
    "len(X_test)"
   ]
  },
  {
   "cell_type": "code",
   "execution_count": null,
   "metadata": {
    "collapsed": true
   },
   "outputs": [],
   "source": []
  }
 ],
 "metadata": {
  "kernelspec": {
   "display_name": "Python 3",
   "language": "python",
   "name": "python3"
  },
  "language_info": {
   "codemirror_mode": {
    "name": "ipython",
    "version": 3
   },
   "file_extension": ".py",
   "mimetype": "text/x-python",
   "name": "python",
   "nbconvert_exporter": "python",
   "pygments_lexer": "ipython3",
   "version": "3.6.1"
  }
 },
 "nbformat": 4,
 "nbformat_minor": 2
}
