{
 "cells": [
  {
   "cell_type": "markdown",
   "metadata": {},
   "source": [
    "## Data Wrangling & Cleaning"
   ]
  },
  {
   "cell_type": "code",
   "execution_count": 1,
   "metadata": {
    "collapsed": true
   },
   "outputs": [],
   "source": [
    "import pandas as pd\n",
    "file = 'Capstone1Data.xlsx'\n",
    "data = pd.ExcelFile(file)"
   ]
  },
  {
   "cell_type": "code",
   "execution_count": 2,
   "metadata": {},
   "outputs": [
    {
     "name": "stdout",
     "output_type": "stream",
     "text": [
      "['Read_Me', 'Variable List', 'Supplemental Data - County', 'Supplemental Data - State', 'ACCESS', 'ASSISTANCE', 'HEALTH', 'INSECURITY', 'LOCAL', 'PRICES_TAXES', 'RESTAURANTS', 'STORES', 'SOCIOECONOMIC']\n"
     ]
    }
   ],
   "source": [
    "sheets = data.sheet_names\n",
    "print(sheets)"
   ]
  },
  {
   "cell_type": "code",
   "execution_count": 3,
   "metadata": {
    "collapsed": true
   },
   "outputs": [],
   "source": [
    "access = data.parse('ACCESS')\n",
    "assistance = data.parse('ASSISTANCE')\n",
    "health = data.parse('HEALTH')\n",
    "insecurity = data.parse('INSECURITY')\n",
    "local = data.parse('LOCAL')\n",
    "prices = data.parse('PRICES_TAXES')\n",
    "restaurants = data.parse('RESTAURANTS')\n",
    "stores = data.parse('STORES')\n",
    "socioeconomic = data.parse('SOCIOECONOMIC')"
   ]
  },
  {
   "cell_type": "code",
   "execution_count": 4,
   "metadata": {},
   "outputs": [
    {
     "name": "stdout",
     "output_type": "stream",
     "text": [
      "<class 'pandas.core.frame.DataFrame'>\n",
      "RangeIndex: 3256 entries, 0 to 3255\n",
      "Data columns (total 13 columns):\n",
      "FIPS                     3256 non-null int64\n",
      "State                    3256 non-null object\n",
      "County                   3256 non-null object\n",
      "LACCESS_POP10            3144 non-null float64\n",
      "PCT_LACCESS_POP10        3144 non-null float64\n",
      "LACCESS_LOWI10           3144 non-null float64\n",
      "PCT_LACCESS_LOWI10       3144 non-null float64\n",
      "LACCESS_CHILD10          3144 non-null float64\n",
      "PCT_LACCESS_CHILD10      3144 non-null float64\n",
      "LACCESS_SENIORS10        3144 non-null float64\n",
      "PCT_LACCESS_SENIORS10    3144 non-null float64\n",
      "LACCESS_HHNV10           3144 non-null float64\n",
      "PCT_LACCESS_HHNV10       3144 non-null float64\n",
      "dtypes: float64(10), int64(1), object(2)\n",
      "memory usage: 330.8+ KB\n"
     ]
    }
   ],
   "source": [
    "access.info()"
   ]
  },
  {
   "cell_type": "code",
   "execution_count": 5,
   "metadata": {
    "collapsed": true
   },
   "outputs": [],
   "source": [
    "#drop the counts bc have percentages, don't want to double represent the data\n",
    "access = access.drop(['LACCESS_POP10','LACCESS_LOWI10','LACCESS_CHILD10','LACCESS_SENIORS10','LACCESS_HHNV10'],axis=1)"
   ]
  },
  {
   "cell_type": "code",
   "execution_count": 6,
   "metadata": {},
   "outputs": [
    {
     "name": "stdout",
     "output_type": "stream",
     "text": [
      "<class 'pandas.core.frame.DataFrame'>\n",
      "Int64Index: 3255 entries, 0 to 3255\n",
      "Data columns (total 8 columns):\n",
      "FIPS                     3255 non-null int64\n",
      "State                    3255 non-null object\n",
      "County                   3255 non-null object\n",
      "PCT_LACCESS_POP10        3143 non-null float64\n",
      "PCT_LACCESS_LOWI10       3143 non-null float64\n",
      "PCT_LACCESS_CHILD10      3143 non-null float64\n",
      "PCT_LACCESS_SENIORS10    3143 non-null float64\n",
      "PCT_LACCESS_HHNV10       3143 non-null float64\n",
      "dtypes: float64(5), int64(1), object(2)\n",
      "memory usage: 228.9+ KB\n"
     ]
    }
   ],
   "source": [
    "access = access.drop_duplicates()\n",
    "access.info()"
   ]
  },
  {
   "cell_type": "code",
   "execution_count": 7,
   "metadata": {},
   "outputs": [
    {
     "name": "stdout",
     "output_type": "stream",
     "text": [
      "<class 'pandas.core.frame.DataFrame'>\n",
      "RangeIndex: 3143 entries, 0 to 3142\n",
      "Data columns (total 55 columns):\n",
      "FIPS                       3143 non-null int64\n",
      "State                      3143 non-null object\n",
      "County                     3143 non-null object\n",
      "REDEMP_SNAPS08             2815 non-null float64\n",
      "REDEMP_SNAPS12             2901 non-null float64\n",
      "PCH_REDEMP_SNAPS_08_12     2801 non-null float64\n",
      "PCT_SNAP09                 3143 non-null float64\n",
      "PCT_SNAP14                 3143 non-null float64\n",
      "PCH_SNAP_09_14             3143 non-null float64\n",
      "PC_SNAPBEN08               3132 non-null float64\n",
      "PC_SNAPBEN10               2753 non-null float64\n",
      "PCH_PC_SNAPBEN_08_10       2752 non-null float64\n",
      "SNAP_PART_RATE08           3143 non-null float64\n",
      "SNAP_PART_RATE10           3143 non-null float64\n",
      "SNAP_OAPP00                3143 non-null int64\n",
      "SNAP_OAPP05                3143 non-null float64\n",
      "SNAP_OAPP10                3143 non-null float64\n",
      "SNAP_FACEWAIVER00          3143 non-null int64\n",
      "SNAP_FACEWAIVER05          3143 non-null float64\n",
      "SNAP_FACEWAIVER10          3143 non-null float64\n",
      "SNAP_VEHEXCL00             3143 non-null int64\n",
      "SNAP_VEHEXCL05             3143 non-null int64\n",
      "SNAP_VEHEXCL10             3143 non-null int64\n",
      "SNAP_BBCE00                3143 non-null int64\n",
      "SNAP_BBCE05                3143 non-null int64\n",
      "SNAP_BBCE10                3143 non-null int64\n",
      "SNAP_REPORTSIMPLE00        3143 non-null int64\n",
      "SNAP_REPORTSIMPLE05        3143 non-null int64\n",
      "SNAP_REPORTSIMPLE10        3143 non-null int64\n",
      "PCT_NSLP09                 3143 non-null float64\n",
      "PCT_NSLP14                 3143 non-null float64\n",
      "PCH_NSLP_09_14             3143 non-null float64\n",
      "PCT_FREE_LUNCH06           3131 non-null float64\n",
      "PCT_FREE_LUNCH10           3125 non-null float64\n",
      "PCT_REDUCED_LUNCH06        3129 non-null float64\n",
      "PCT_REDUCED_LUNCH10        3125 non-null float64\n",
      "PCT_SBP09                  3143 non-null float64\n",
      "PCT_SBP14                  3143 non-null float64\n",
      "PCH_SBP_09_14              3143 non-null float64\n",
      "PCT_SFSP09                 3143 non-null float64\n",
      "PCT_SFSP14                 3143 non-null float64\n",
      "PCH_SFSP_09_14             3143 non-null float64\n",
      "PC_WIC_REDEMP08            2079 non-null float64\n",
      "PC_WIC_REDEMP12            2004 non-null float64\n",
      "PCH_PC_WIC_REDEMP_08_12    1942 non-null float64\n",
      "REDEMP_WICS08              2079 non-null float64\n",
      "REDEMP_WICS12              2004 non-null float64\n",
      "PCH_REDEMP_WICS_08_12      1942 non-null float64\n",
      "PCT_WIC09                  3143 non-null float64\n",
      "PCT_WIC14                  3143 non-null float64\n",
      "PCH_WIC_09_14              3143 non-null float64\n",
      "PCT_CACFP09                3143 non-null float64\n",
      "PCT_CACFP14                3143 non-null float64\n",
      "PCH_CACFP_09_14            3143 non-null float64\n",
      "FDPIR12                    3143 non-null int64\n",
      "dtypes: float64(40), int64(13), object(2)\n",
      "memory usage: 1.3+ MB\n"
     ]
    }
   ],
   "source": [
    "assistance.info()"
   ]
  },
  {
   "cell_type": "code",
   "execution_count": 8,
   "metadata": {
    "collapsed": true
   },
   "outputs": [],
   "source": [
    "#drop calculated columns % change\n",
    "assistance = assistance.drop(['PCH_CACFP_09_14','PCH_WIC_09_14','PCH_REDEMP_WICS_08_12','PCH_PC_WIC_REDEMP_08_12','PCH_SFSP_09_14','PCH_SBP_09_14','PCH_NSLP_09_14','PCH_PC_SNAPBEN_08_10','PCH_SNAP_09_14','PCH_REDEMP_SNAPS_08_12'],axis=1)"
   ]
  },
  {
   "cell_type": "code",
   "execution_count": 9,
   "metadata": {
    "collapsed": true
   },
   "outputs": [],
   "source": [
    "#drop columns with many missing values\n",
    "assistance = assistance.drop(['PC_WIC_REDEMP08','PC_WIC_REDEMP12','REDEMP_WICS08','REDEMP_WICS12'],axis=1)"
   ]
  },
  {
   "cell_type": "code",
   "execution_count": 10,
   "metadata": {
    "collapsed": true
   },
   "outputs": [],
   "source": [
    "assistance = assistance.drop_duplicates()"
   ]
  },
  {
   "cell_type": "code",
   "execution_count": 11,
   "metadata": {},
   "outputs": [
    {
     "name": "stdout",
     "output_type": "stream",
     "text": [
      "<class 'pandas.core.frame.DataFrame'>\n",
      "RangeIndex: 3143 entries, 0 to 3142\n",
      "Data columns (total 19 columns):\n",
      "FIPS                     3143 non-null int64\n",
      "State                    3143 non-null object\n",
      "County                   3143 non-null object\n",
      "PCT_DIABETES_ADULTS09    3138 non-null float64\n",
      "PCT_DIABETES_ADULTS10    3138 non-null float64\n",
      "PCT_OBESE_ADULTS09       3138 non-null float64\n",
      "PCT_OBESE_ADULTS10       3138 non-null float64\n",
      "PCT_OBESE_ADULTS13       3138 non-null float64\n",
      "PCT_OBESE_CHILD08        2691 non-null float64\n",
      "PCT_OBESE_CHILD11        2714 non-null float64\n",
      "PCH_OBESE_CHILD_08_11    2636 non-null float64\n",
      "PCT_HSPA09               2503 non-null float64\n",
      "RECFAC07                 3138 non-null float64\n",
      "RECFAC12                 3138 non-null float64\n",
      "PCH_RECFAC_07_12         3014 non-null float64\n",
      "RECFACPTH07              3138 non-null float64\n",
      "RECFACPTH12              3138 non-null float64\n",
      "PCH_RECFACPTH_07_12      3014 non-null float64\n",
      "NATAMEN                  3108 non-null float64\n",
      "dtypes: float64(16), int64(1), object(2)\n",
      "memory usage: 466.6+ KB\n"
     ]
    }
   ],
   "source": [
    "health.info()"
   ]
  },
  {
   "cell_type": "code",
   "execution_count": 12,
   "metadata": {
    "collapsed": true
   },
   "outputs": [],
   "source": [
    "health = health.drop(['PCH_RECFACPTH_07_12','PCH_RECFAC_07_12','PCH_OBESE_CHILD_08_11'],axis=1)"
   ]
  },
  {
   "cell_type": "code",
   "execution_count": 13,
   "metadata": {
    "collapsed": true
   },
   "outputs": [],
   "source": [
    "#drop columns with many missing values\n",
    "health = health.drop(['PCT_OBESE_CHILD08','PCT_OBESE_CHILD11','PCT_HSPA09'],axis=1)"
   ]
  },
  {
   "cell_type": "code",
   "execution_count": 14,
   "metadata": {
    "collapsed": true
   },
   "outputs": [],
   "source": [
    "health = health.drop_duplicates()"
   ]
  },
  {
   "cell_type": "code",
   "execution_count": 15,
   "metadata": {},
   "outputs": [
    {
     "name": "stdout",
     "output_type": "stream",
     "text": [
      "<class 'pandas.core.frame.DataFrame'>\n",
      "RangeIndex: 3256 entries, 0 to 3255\n",
      "Data columns (total 15 columns):\n",
      "FIPS                     3256 non-null int64\n",
      "State                    3256 non-null object\n",
      "County                   3256 non-null object\n",
      "FOODINSEC_00_02          3144 non-null float64\n",
      "FOODINSEC_07_09          3144 non-null float64\n",
      "FOODINSEC_10_12          3144 non-null float64\n",
      "CH_FOODINSEC_02_12       3144 non-null float64\n",
      "CH_FOODINSEC_09_12       3144 non-null float64\n",
      "VLFOODSEC_00_02          3144 non-null float64\n",
      "VLFOODSEC_07_09          3144 non-null float64\n",
      "VLFOODSEC_10_12          3144 non-null float64\n",
      "CH_VLFOODSEC_02_12       3144 non-null float64\n",
      "CH_VLFOODSEC_09_12       3144 non-null float64\n",
      "FOODINSEC_CHILD_01_07    3144 non-null float64\n",
      "FOODINSEC_CHILD_03_11    3144 non-null float64\n",
      "dtypes: float64(12), int64(1), object(2)\n",
      "memory usage: 381.6+ KB\n"
     ]
    }
   ],
   "source": [
    "insecurity.info()"
   ]
  },
  {
   "cell_type": "code",
   "execution_count": 16,
   "metadata": {
    "collapsed": true
   },
   "outputs": [],
   "source": [
    "#drop calculated columns %changes\n",
    "insecurity = insecurity.drop(['CH_FOODINSEC_02_12','CH_FOODINSEC_09_12','CH_VLFOODSEC_02_12','CH_VLFOODSEC_09_12'],axis=1)"
   ]
  },
  {
   "cell_type": "code",
   "execution_count": 17,
   "metadata": {
    "collapsed": true
   },
   "outputs": [],
   "source": [
    "insecurity = insecurity.drop_duplicates()"
   ]
  },
  {
   "cell_type": "code",
   "execution_count": 18,
   "metadata": {},
   "outputs": [
    {
     "name": "stdout",
     "output_type": "stream",
     "text": [
      "<class 'pandas.core.frame.DataFrame'>\n",
      "RangeIndex: 3255 entries, 0 to 3254\n",
      "Data columns (total 49 columns):\n",
      "FIPS                    3255 non-null int64\n",
      "State                   3255 non-null object\n",
      "County                  3255 non-null object\n",
      "DIRSALES_FARMS07        3078 non-null float64\n",
      "PCT_LOCLFARM07          3021 non-null float64\n",
      "PCT_LOCLSALE07          2750 non-null float64\n",
      "DIRSALES07              2852 non-null float64\n",
      "PC_DIRSALES07           2852 non-null float64\n",
      "FMRKT09                 3141 non-null float64\n",
      "FMRKT13                 3142 non-null float64\n",
      "PCH_FMRKT_09_13         2659 non-null float64\n",
      "FMRKTPTH09              3137 non-null float64\n",
      "FMRKTPTH13              3138 non-null float64\n",
      "PCH_FMRKTPTH_09_13      2655 non-null float64\n",
      "FMRKT_SNAP13            2181 non-null float64\n",
      "PCT_FMRKT_SNAP13        2181 non-null float64\n",
      "FMRKT_WIC13             2181 non-null float64\n",
      "PCT_FMRKT_WIC13         2181 non-null float64\n",
      "FMRKT_WICCASH13         2181 non-null float64\n",
      "PCT_FMRKT_WICCASH13     2181 non-null float64\n",
      "FMRKT_SFMNP13           2181 non-null float64\n",
      "PCT_FMRKT_SFMNP13       2181 non-null float64\n",
      "FMRKT_FRVEG13           2181 non-null float64\n",
      "PCT_FRMKT_FRVEG13       2181 non-null float64\n",
      "FMRKT_ANMLPROD13        2181 non-null float64\n",
      "PCT_FRMKT_ANMLPROD13    2181 non-null float64\n",
      "FMRKT_OTHER13           2181 non-null float64\n",
      "PCT_FMRKT_OTHER13       2181 non-null float64\n",
      "VEG_FARMS07             3077 non-null float64\n",
      "VEG_ACRES07             2530 non-null float64\n",
      "VEG_ACRESPTH07          2529 non-null float64\n",
      "FRESHVEG_FARMS07        3077 non-null float64\n",
      "FRESHVEG_ACRES07        1840 non-null float64\n",
      "FRESHVEG_ACRESPTH07     1840 non-null float64\n",
      "ORCHARD_FARMS07         3077 non-null float64\n",
      "ORCHARD_ACRES07         2592 non-null float64\n",
      "ORCHARD_ACRESPTH07      2592 non-null float64\n",
      "BERRY_FARMS07           3077 non-null float64\n",
      "BERRY_ACRES07           2302 non-null float64\n",
      "BERRY_ACRESPTH07        2302 non-null float64\n",
      "SLHOUSE07               3142 non-null float64\n",
      "GHVEG_FARMS07           3077 non-null float64\n",
      "GHVEG_SQFT07            2297 non-null float64\n",
      "GHVEG_SQFTPTH07         2297 non-null float64\n",
      "FOODHUB12               3142 non-null float64\n",
      "CSA07                   3142 non-null float64\n",
      "AGRITRSM_OPS07          3142 non-null float64\n",
      "AGRITRSM_RCT07          1521 non-null float64\n",
      "FARM_TO_SCHOOL          3142 non-null float64\n",
      "dtypes: float64(46), int64(1), object(2)\n",
      "memory usage: 1.2+ MB\n"
     ]
    }
   ],
   "source": [
    "local.info()"
   ]
  },
  {
   "cell_type": "markdown",
   "metadata": {},
   "source": [
    "The local sheet has too many columns with missing values. I decided to not include any of the data in this sheet. (I will not merge this sheet with the rest of the dataframe)"
   ]
  },
  {
   "cell_type": "code",
   "execution_count": 19,
   "metadata": {},
   "outputs": [
    {
     "name": "stdout",
     "output_type": "stream",
     "text": [
      "<class 'pandas.core.frame.DataFrame'>\n",
      "RangeIndex: 3256 entries, 0 to 3255\n",
      "Data columns (total 11 columns):\n",
      "FIPS                 3256 non-null int64\n",
      "State                3256 non-null object\n",
      "County               3256 non-null object\n",
      "MILK_PRICE10         3110 non-null float64\n",
      "SODA_PRICE10         3110 non-null float64\n",
      "MILK_SODA_PRICE10    3110 non-null float64\n",
      "SODATAX_STORES11     3144 non-null float64\n",
      "SODATAX_VENDM11      3144 non-null float64\n",
      "CHIPSTAX_STORES11    3144 non-null float64\n",
      "CHIPSTAX_VENDM11     3144 non-null float64\n",
      "FOOD_TAX11           3144 non-null float64\n",
      "dtypes: float64(8), int64(1), object(2)\n",
      "memory usage: 279.9+ KB\n"
     ]
    }
   ],
   "source": [
    "prices.info()"
   ]
  },
  {
   "cell_type": "code",
   "execution_count": 20,
   "metadata": {
    "collapsed": true
   },
   "outputs": [],
   "source": [
    "#drop calculated column\n",
    "prices = prices.drop(['MILK_SODA_PRICE10'],axis=1)"
   ]
  },
  {
   "cell_type": "code",
   "execution_count": 21,
   "metadata": {
    "collapsed": true
   },
   "outputs": [],
   "source": [
    "prices = prices.drop_duplicates()"
   ]
  },
  {
   "cell_type": "code",
   "execution_count": 22,
   "metadata": {},
   "outputs": [
    {
     "name": "stdout",
     "output_type": "stream",
     "text": [
      "<class 'pandas.core.frame.DataFrame'>\n",
      "RangeIndex: 3143 entries, 0 to 3142\n",
      "Data columns (total 19 columns):\n",
      "FIPS                3143 non-null int64\n",
      "State               3143 non-null object\n",
      "County              3143 non-null object\n",
      "FFR07               3138 non-null float64\n",
      "FFR12               3143 non-null int64\n",
      "PCH_FFR_07_12       3100 non-null float64\n",
      "FFRPTH07            3138 non-null float64\n",
      "FFRPTH12            3143 non-null float64\n",
      "PCH_FFRPTH_07_12    3143 non-null float64\n",
      "FSR07               3138 non-null float64\n",
      "FSR12               3143 non-null int64\n",
      "PCH_FSR_07_12       3115 non-null float64\n",
      "FSRPTH07            3138 non-null float64\n",
      "FSRPTH12            3143 non-null float64\n",
      "PCH_FSRPTH_07_12    3143 non-null float64\n",
      "PC_FFRSALES02       3127 non-null float64\n",
      "PC_FFRSALES07       3143 non-null float64\n",
      "PC_FSRSALES02       3127 non-null float64\n",
      "PC_FSRSALES07       3143 non-null float64\n",
      "dtypes: float64(14), int64(3), object(2)\n",
      "memory usage: 466.6+ KB\n"
     ]
    }
   ],
   "source": [
    "restaurants.info()"
   ]
  },
  {
   "cell_type": "code",
   "execution_count": 23,
   "metadata": {
    "collapsed": true
   },
   "outputs": [],
   "source": [
    "#drop counts and %changes\n",
    "restaurants = restaurants.drop(['FFR07','FFR12','PCH_FFR_07_12','PCH_FFRPTH_07_12','FSR07','FSR12','PCH_FSRPTH_07_12'],axis=1)"
   ]
  },
  {
   "cell_type": "code",
   "execution_count": 24,
   "metadata": {
    "collapsed": true
   },
   "outputs": [],
   "source": [
    "restaurants = restaurants.drop_duplicates()"
   ]
  },
  {
   "cell_type": "code",
   "execution_count": 25,
   "metadata": {},
   "outputs": [
    {
     "name": "stdout",
     "output_type": "stream",
     "text": [
      "<class 'pandas.core.frame.DataFrame'>\n",
      "RangeIndex: 3221 entries, 0 to 3220\n",
      "Data columns (total 39 columns):\n",
      "FIPS                   3221 non-null int64\n",
      "State                  3221 non-null object\n",
      "County                 3143 non-null object\n",
      "GROC07                 3143 non-null float64\n",
      "GROC12                 3143 non-null float64\n",
      "PCH_GROC_07_12         3116 non-null float64\n",
      "GROCPTH07              3143 non-null float64\n",
      "GROCPTH12              3143 non-null float64\n",
      "PCH_GROCPTH_07_12      3121 non-null float64\n",
      "SUPERC07               3143 non-null float64\n",
      "SUPERC12               3143 non-null float64\n",
      "PCH_SUPERC_07_12       2638 non-null float64\n",
      "SUPERCPTH07            3143 non-null float64\n",
      "SUPERCPTH12            3143 non-null float64\n",
      "PCH_SUPERCPTH_07_12    2638 non-null float64\n",
      "CONVS07                3143 non-null float64\n",
      "CONVS12                3143 non-null float64\n",
      "PCH_CONVS_07_12        3118 non-null float64\n",
      "CONVSPTH07             3143 non-null float64\n",
      "CONVSPTH12             3143 non-null float64\n",
      "PCH_CONVSPTH_07_12     3122 non-null float64\n",
      "SPECS07                3143 non-null float64\n",
      "SPECS12                3143 non-null float64\n",
      "PCH_SPECS_07_12        2970 non-null float64\n",
      "SPECSPTH07             3143 non-null float64\n",
      "SPECSPTH12             3143 non-null float64\n",
      "PCH_SPECSPTH_07_12     2974 non-null float64\n",
      "SNAPS08                3143 non-null float64\n",
      "SNAPS12                3143 non-null float64\n",
      "PCH_SNAPS_08_12        3138 non-null float64\n",
      "SNAPSPTH08             3143 non-null float64\n",
      "SNAPSPTH12             3143 non-null float64\n",
      "PCH_SNAPSPTH_08_12     3138 non-null float64\n",
      "WICS08                 3143 non-null float64\n",
      "WICS12                 3143 non-null float64\n",
      "PCH_WICS_08_12         3124 non-null float64\n",
      "WICSPTH08              3143 non-null float64\n",
      "WICSPTH12              3143 non-null float64\n",
      "PCH_WICSPTH_08_12      3124 non-null float64\n",
      "dtypes: float64(36), int64(1), object(2)\n",
      "memory usage: 981.5+ KB\n"
     ]
    }
   ],
   "source": [
    "stores.info()"
   ]
  },
  {
   "cell_type": "code",
   "execution_count": 26,
   "metadata": {
    "collapsed": true
   },
   "outputs": [],
   "source": [
    "stores = stores.drop(['GROC07','GROC12','PCH_GROC_07_12','PCH_GROCPTH_07_12','SUPERC07','SUPERC12','PCH_SUPERC_07_12','PCH_SUPERCPTH_07_12','CONVS07','CONVS12','PCH_CONVS_07_12','PCH_CONVSPTH_07_12','SPECS07','SPECS12','PCH_SPECS_07_12','PCH_SPECSPTH_07_12','SNAPS08','SNAPS12','PCH_SNAPS_08_12','WICS08','WICS12','PCH_WICS_08_12','PCH_WICSPTH_08_12'],axis=1)"
   ]
  },
  {
   "cell_type": "code",
   "execution_count": 27,
   "metadata": {
    "collapsed": true
   },
   "outputs": [],
   "source": [
    "stores = stores.drop_duplicates()"
   ]
  },
  {
   "cell_type": "code",
   "execution_count": 28,
   "metadata": {},
   "outputs": [
    {
     "name": "stdout",
     "output_type": "stream",
     "text": [
      "<class 'pandas.core.frame.DataFrame'>\n",
      "RangeIndex: 3143 entries, 0 to 3142\n",
      "Data columns (total 18 columns):\n",
      "FIPS               3143 non-null int64\n",
      "State              3143 non-null object\n",
      "County             3143 non-null object\n",
      "PCT_NHWHITE10      3143 non-null float64\n",
      "PCT_NHBLACK10      3143 non-null float64\n",
      "PCT_HISP10         3143 non-null float64\n",
      "PCT_NHASIAN10      3143 non-null float64\n",
      "PCT_NHNA10         3143 non-null float64\n",
      "PCT_NHPI10         3143 non-null float64\n",
      "PCT_65OLDER10      3143 non-null float64\n",
      "PCT_18YOUNGER10    3143 non-null float64\n",
      "MEDHHINC10         3143 non-null object\n",
      "POVRATE10          3143 non-null object\n",
      "PERPOV10           3143 non-null int64\n",
      "CHILDPOVRATE10     3143 non-null object\n",
      "PERCHLDPOV10       3143 non-null int64\n",
      "METRO13            3143 non-null int64\n",
      "POPLOSS00          3143 non-null object\n",
      "dtypes: float64(8), int64(4), object(6)\n",
      "memory usage: 442.1+ KB\n"
     ]
    }
   ],
   "source": [
    "socioeconomic.info()"
   ]
  },
  {
   "cell_type": "code",
   "execution_count": 29,
   "metadata": {
    "collapsed": true
   },
   "outputs": [],
   "source": [
    "socioeconomic = socioeconomic.drop_duplicates()"
   ]
  },
  {
   "cell_type": "code",
   "execution_count": 30,
   "metadata": {},
   "outputs": [
    {
     "name": "stdout",
     "output_type": "stream",
     "text": [
      "<class 'pandas.core.frame.DataFrame'>\n",
      "Int64Index: 3143 entries, 0 to 3142\n",
      "Data columns (total 46 columns):\n",
      "FIPS                     3143 non-null int64\n",
      "State                    3143 non-null object\n",
      "County                   3143 non-null object\n",
      "PCT_LACCESS_POP10        3143 non-null float64\n",
      "PCT_LACCESS_LOWI10       3143 non-null float64\n",
      "PCT_LACCESS_CHILD10      3143 non-null float64\n",
      "PCT_LACCESS_SENIORS10    3143 non-null float64\n",
      "PCT_LACCESS_HHNV10       3143 non-null float64\n",
      "REDEMP_SNAPS08           2815 non-null float64\n",
      "REDEMP_SNAPS12           2901 non-null float64\n",
      "PCT_SNAP09               3143 non-null float64\n",
      "PCT_SNAP14               3143 non-null float64\n",
      "PC_SNAPBEN08             3132 non-null float64\n",
      "PC_SNAPBEN10             2753 non-null float64\n",
      "SNAP_PART_RATE08         3143 non-null float64\n",
      "SNAP_PART_RATE10         3143 non-null float64\n",
      "SNAP_OAPP00              3143 non-null int64\n",
      "SNAP_OAPP05              3143 non-null float64\n",
      "SNAP_OAPP10              3143 non-null float64\n",
      "SNAP_FACEWAIVER00        3143 non-null int64\n",
      "SNAP_FACEWAIVER05        3143 non-null float64\n",
      "SNAP_FACEWAIVER10        3143 non-null float64\n",
      "SNAP_VEHEXCL00           3143 non-null int64\n",
      "SNAP_VEHEXCL05           3143 non-null int64\n",
      "SNAP_VEHEXCL10           3143 non-null int64\n",
      "SNAP_BBCE00              3143 non-null int64\n",
      "SNAP_BBCE05              3143 non-null int64\n",
      "SNAP_BBCE10              3143 non-null int64\n",
      "SNAP_REPORTSIMPLE00      3143 non-null int64\n",
      "SNAP_REPORTSIMPLE05      3143 non-null int64\n",
      "SNAP_REPORTSIMPLE10      3143 non-null int64\n",
      "PCT_NSLP09               3143 non-null float64\n",
      "PCT_NSLP14               3143 non-null float64\n",
      "PCT_FREE_LUNCH06         3131 non-null float64\n",
      "PCT_FREE_LUNCH10         3125 non-null float64\n",
      "PCT_REDUCED_LUNCH06      3129 non-null float64\n",
      "PCT_REDUCED_LUNCH10      3125 non-null float64\n",
      "PCT_SBP09                3143 non-null float64\n",
      "PCT_SBP14                3143 non-null float64\n",
      "PCT_SFSP09               3143 non-null float64\n",
      "PCT_SFSP14               3143 non-null float64\n",
      "PCT_WIC09                3143 non-null float64\n",
      "PCT_WIC14                3143 non-null float64\n",
      "PCT_CACFP09              3143 non-null float64\n",
      "PCT_CACFP14              3143 non-null float64\n",
      "FDPIR12                  3143 non-null int64\n",
      "dtypes: float64(31), int64(13), object(2)\n",
      "memory usage: 1.1+ MB\n"
     ]
    }
   ],
   "source": [
    "#merge converted data frames to one large data frame indexing on FIPS, State, and County\n",
    "all_data = pd.merge(access,assistance,on=['FIPS','State','County'],how='inner')\n",
    "all_data.info()"
   ]
  },
  {
   "cell_type": "code",
   "execution_count": 31,
   "metadata": {},
   "outputs": [
    {
     "name": "stdout",
     "output_type": "stream",
     "text": [
      "<class 'pandas.core.frame.DataFrame'>\n",
      "Int64Index: 3143 entries, 0 to 3142\n",
      "Data columns (total 54 columns):\n",
      "FIPS                     3143 non-null int64\n",
      "State                    3143 non-null object\n",
      "County                   3143 non-null object\n",
      "PCT_LACCESS_POP10        3143 non-null float64\n",
      "PCT_LACCESS_LOWI10       3143 non-null float64\n",
      "PCT_LACCESS_CHILD10      3143 non-null float64\n",
      "PCT_LACCESS_SENIORS10    3143 non-null float64\n",
      "PCT_LACCESS_HHNV10       3143 non-null float64\n",
      "REDEMP_SNAPS08           2815 non-null float64\n",
      "REDEMP_SNAPS12           2901 non-null float64\n",
      "PCT_SNAP09               3143 non-null float64\n",
      "PCT_SNAP14               3143 non-null float64\n",
      "PC_SNAPBEN08             3132 non-null float64\n",
      "PC_SNAPBEN10             2753 non-null float64\n",
      "SNAP_PART_RATE08         3143 non-null float64\n",
      "SNAP_PART_RATE10         3143 non-null float64\n",
      "SNAP_OAPP00              3143 non-null int64\n",
      "SNAP_OAPP05              3143 non-null float64\n",
      "SNAP_OAPP10              3143 non-null float64\n",
      "SNAP_FACEWAIVER00        3143 non-null int64\n",
      "SNAP_FACEWAIVER05        3143 non-null float64\n",
      "SNAP_FACEWAIVER10        3143 non-null float64\n",
      "SNAP_VEHEXCL00           3143 non-null int64\n",
      "SNAP_VEHEXCL05           3143 non-null int64\n",
      "SNAP_VEHEXCL10           3143 non-null int64\n",
      "SNAP_BBCE00              3143 non-null int64\n",
      "SNAP_BBCE05              3143 non-null int64\n",
      "SNAP_BBCE10              3143 non-null int64\n",
      "SNAP_REPORTSIMPLE00      3143 non-null int64\n",
      "SNAP_REPORTSIMPLE05      3143 non-null int64\n",
      "SNAP_REPORTSIMPLE10      3143 non-null int64\n",
      "PCT_NSLP09               3143 non-null float64\n",
      "PCT_NSLP14               3143 non-null float64\n",
      "PCT_FREE_LUNCH06         3131 non-null float64\n",
      "PCT_FREE_LUNCH10         3125 non-null float64\n",
      "PCT_REDUCED_LUNCH06      3129 non-null float64\n",
      "PCT_REDUCED_LUNCH10      3125 non-null float64\n",
      "PCT_SBP09                3143 non-null float64\n",
      "PCT_SBP14                3143 non-null float64\n",
      "PCT_SFSP09               3143 non-null float64\n",
      "PCT_SFSP14               3143 non-null float64\n",
      "PCT_WIC09                3143 non-null float64\n",
      "PCT_WIC14                3143 non-null float64\n",
      "PCT_CACFP09              3143 non-null float64\n",
      "PCT_CACFP14              3143 non-null float64\n",
      "FDPIR12                  3143 non-null int64\n",
      "FOODINSEC_00_02          3143 non-null float64\n",
      "FOODINSEC_07_09          3143 non-null float64\n",
      "FOODINSEC_10_12          3143 non-null float64\n",
      "VLFOODSEC_00_02          3143 non-null float64\n",
      "VLFOODSEC_07_09          3143 non-null float64\n",
      "VLFOODSEC_10_12          3143 non-null float64\n",
      "FOODINSEC_CHILD_01_07    3143 non-null float64\n",
      "FOODINSEC_CHILD_03_11    3143 non-null float64\n",
      "dtypes: float64(39), int64(13), object(2)\n",
      "memory usage: 1.3+ MB\n"
     ]
    }
   ],
   "source": [
    "all_data = pd.merge(all_data,insecurity,on=['FIPS','State','County'],how='inner')\n",
    "all_data.info()"
   ]
  },
  {
   "cell_type": "code",
   "execution_count": 32,
   "metadata": {
    "collapsed": true
   },
   "outputs": [],
   "source": [
    "all_data = pd.merge(all_data,prices,on=['FIPS','State','County'],how='inner')"
   ]
  },
  {
   "cell_type": "code",
   "execution_count": 33,
   "metadata": {
    "collapsed": true
   },
   "outputs": [],
   "source": [
    "all_data = pd.merge(all_data,restaurants,on=['FIPS','State','County'],how='inner')"
   ]
  },
  {
   "cell_type": "code",
   "execution_count": 34,
   "metadata": {
    "collapsed": true
   },
   "outputs": [],
   "source": [
    "all_data = pd.merge(all_data,stores,on=['FIPS','State','County'],how='inner')"
   ]
  },
  {
   "cell_type": "code",
   "execution_count": 35,
   "metadata": {
    "collapsed": true
   },
   "outputs": [],
   "source": [
    "all_data = pd.merge(all_data,socioeconomic,on=['FIPS','State','County'],how='inner')"
   ]
  },
  {
   "cell_type": "code",
   "execution_count": 36,
   "metadata": {
    "collapsed": true
   },
   "outputs": [],
   "source": [
    "all_data = pd.merge(all_data,health,on=['FIPS','State','County'],how='inner')"
   ]
  },
  {
   "cell_type": "code",
   "execution_count": 37,
   "metadata": {},
   "outputs": [
    {
     "name": "stdout",
     "output_type": "stream",
     "text": [
      "<class 'pandas.core.frame.DataFrame'>\n",
      "Int64Index: 3143 entries, 0 to 3142\n",
      "Columns: 108 entries, FIPS to NATAMEN\n",
      "dtypes: float64(86), int64(16), object(6)\n",
      "memory usage: 2.6+ MB\n"
     ]
    }
   ],
   "source": [
    "all_data.info()"
   ]
  },
  {
   "cell_type": "code",
   "execution_count": 38,
   "metadata": {
    "scrolled": true
   },
   "outputs": [
    {
     "data": {
      "text/plain": [
       "['FIPS',\n",
       " 'State',\n",
       " 'County',\n",
       " 'PCT_LACCESS_POP10',\n",
       " 'PCT_LACCESS_LOWI10',\n",
       " 'PCT_LACCESS_CHILD10',\n",
       " 'PCT_LACCESS_SENIORS10',\n",
       " 'PCT_LACCESS_HHNV10',\n",
       " 'REDEMP_SNAPS08',\n",
       " 'REDEMP_SNAPS12',\n",
       " 'PCT_SNAP09',\n",
       " 'PCT_SNAP14',\n",
       " 'PC_SNAPBEN08',\n",
       " 'PC_SNAPBEN10',\n",
       " 'SNAP_PART_RATE08',\n",
       " 'SNAP_PART_RATE10',\n",
       " 'SNAP_OAPP00',\n",
       " 'SNAP_OAPP05',\n",
       " 'SNAP_OAPP10',\n",
       " 'SNAP_FACEWAIVER00',\n",
       " 'SNAP_FACEWAIVER05',\n",
       " 'SNAP_FACEWAIVER10',\n",
       " 'SNAP_VEHEXCL00',\n",
       " 'SNAP_VEHEXCL05',\n",
       " 'SNAP_VEHEXCL10',\n",
       " 'SNAP_BBCE00',\n",
       " 'SNAP_BBCE05',\n",
       " 'SNAP_BBCE10',\n",
       " 'SNAP_REPORTSIMPLE00',\n",
       " 'SNAP_REPORTSIMPLE05',\n",
       " 'SNAP_REPORTSIMPLE10',\n",
       " 'PCT_NSLP09',\n",
       " 'PCT_NSLP14',\n",
       " 'PCT_FREE_LUNCH06',\n",
       " 'PCT_FREE_LUNCH10',\n",
       " 'PCT_REDUCED_LUNCH06',\n",
       " 'PCT_REDUCED_LUNCH10',\n",
       " 'PCT_SBP09',\n",
       " 'PCT_SBP14',\n",
       " 'PCT_SFSP09',\n",
       " 'PCT_SFSP14',\n",
       " 'PCT_WIC09',\n",
       " 'PCT_WIC14',\n",
       " 'PCT_CACFP09',\n",
       " 'PCT_CACFP14',\n",
       " 'FDPIR12',\n",
       " 'FOODINSEC_00_02',\n",
       " 'FOODINSEC_07_09',\n",
       " 'FOODINSEC_10_12',\n",
       " 'VLFOODSEC_00_02',\n",
       " 'VLFOODSEC_07_09',\n",
       " 'VLFOODSEC_10_12',\n",
       " 'FOODINSEC_CHILD_01_07',\n",
       " 'FOODINSEC_CHILD_03_11',\n",
       " 'MILK_PRICE10',\n",
       " 'SODA_PRICE10',\n",
       " 'SODATAX_STORES11',\n",
       " 'SODATAX_VENDM11',\n",
       " 'CHIPSTAX_STORES11',\n",
       " 'CHIPSTAX_VENDM11',\n",
       " 'FOOD_TAX11',\n",
       " 'FFRPTH07',\n",
       " 'FFRPTH12',\n",
       " 'PCH_FSR_07_12',\n",
       " 'FSRPTH07',\n",
       " 'FSRPTH12',\n",
       " 'PC_FFRSALES02',\n",
       " 'PC_FFRSALES07',\n",
       " 'PC_FSRSALES02',\n",
       " 'PC_FSRSALES07',\n",
       " 'GROCPTH07',\n",
       " 'GROCPTH12',\n",
       " 'SUPERCPTH07',\n",
       " 'SUPERCPTH12',\n",
       " 'CONVSPTH07',\n",
       " 'CONVSPTH12',\n",
       " 'SPECSPTH07',\n",
       " 'SPECSPTH12',\n",
       " 'SNAPSPTH08',\n",
       " 'SNAPSPTH12',\n",
       " 'PCH_SNAPSPTH_08_12',\n",
       " 'WICSPTH08',\n",
       " 'WICSPTH12',\n",
       " 'PCT_NHWHITE10',\n",
       " 'PCT_NHBLACK10',\n",
       " 'PCT_HISP10',\n",
       " 'PCT_NHASIAN10',\n",
       " 'PCT_NHNA10',\n",
       " 'PCT_NHPI10',\n",
       " 'PCT_65OLDER10',\n",
       " 'PCT_18YOUNGER10',\n",
       " 'MEDHHINC10',\n",
       " 'POVRATE10',\n",
       " 'PERPOV10',\n",
       " 'CHILDPOVRATE10',\n",
       " 'PERCHLDPOV10',\n",
       " 'METRO13',\n",
       " 'POPLOSS00',\n",
       " 'PCT_DIABETES_ADULTS09',\n",
       " 'PCT_DIABETES_ADULTS10',\n",
       " 'PCT_OBESE_ADULTS09',\n",
       " 'PCT_OBESE_ADULTS10',\n",
       " 'PCT_OBESE_ADULTS13',\n",
       " 'RECFAC07',\n",
       " 'RECFAC12',\n",
       " 'RECFACPTH07',\n",
       " 'RECFACPTH12',\n",
       " 'NATAMEN']"
      ]
     },
     "execution_count": 38,
     "metadata": {},
     "output_type": "execute_result"
    }
   ],
   "source": [
    "columns = list(all_data)\n",
    "columns"
   ]
  },
  {
   "cell_type": "code",
   "execution_count": 39,
   "metadata": {},
   "outputs": [],
   "source": [
    "#columns that are categorical variables\n",
    "columns_to_remove = ['SNAP_OAPP00','SNAP_OAPP05','SNAP_OAPP10','SNAP_FACEWAIVER00','SNAP_FACEWAIVER05','SNAP_FACEWAIVER10','SNAP_VEHEXCL00','SNAP_VEHEXCL05','SNAP_VEHEXCL10','SNAP_BBCE00','SNAP_BBCE05','SNAP_BBCE10','SNAP_REPORTSIMPLE00','SNAP_REPORTSIMPLE05','SNAP_REPORTSIMPLE10','FDPIR12','SODATAX_STORES11','SODATAX_VENDM11','CHIPSTAX_STORES11','CHIPSTAX_VENDM11','FOOD_TAX11','PERPOV10','PERCHLDPOV10','METRO13','POPLOSS00']"
   ]
  },
  {
   "cell_type": "code",
   "execution_count": 40,
   "metadata": {},
   "outputs": [],
   "source": [
    "#remove categorical variables from list of all columns in dataframe\n",
    "columns_left = [x for x in columns if x not in columns_to_remove]"
   ]
  },
  {
   "cell_type": "code",
   "execution_count": 41,
   "metadata": {
    "collapsed": true
   },
   "outputs": [],
   "source": [
    "#stray percent change column that I did not remove\n",
    "columns_left.remove('PCH_SNAPSPTH_08_12')"
   ]
  },
  {
   "cell_type": "code",
   "execution_count": 42,
   "metadata": {
    "collapsed": true
   },
   "outputs": [],
   "source": [
    "#replace <Null> with 0's (6 cells contain this for some reason)\n",
    "all_data.replace('<Null>',0,inplace=True)"
   ]
  },
  {
   "cell_type": "code",
   "execution_count": 43,
   "metadata": {},
   "outputs": [],
   "source": [
    "#replace 0's with NaN in noncategorical variable columns in preparation for imputing NaN's\n",
    "import numpy as np\n",
    "for i in columns_left:\n",
    "    all_data[i].replace(0,np.nan,inplace=True)"
   ]
  },
  {
   "cell_type": "code",
   "execution_count": 44,
   "metadata": {},
   "outputs": [],
   "source": [
    "#save to excel\n",
    "from pandas import ExcelWriter\n",
    "writer = ExcelWriter('Capstone1Export.xlsx')\n",
    "all_data.to_excel(writer)\n",
    "writer.save()"
   ]
  },
  {
   "cell_type": "code",
   "execution_count": 45,
   "metadata": {
    "collapsed": true
   },
   "outputs": [],
   "source": [
    "#separate dependent variable from independent variables, drop State and County\n",
    "dependent = all_data.drop(['PCT_OBESE_ADULTS10','State','County'], axis=1)"
   ]
  },
  {
   "cell_type": "code",
   "execution_count": 46,
   "metadata": {
    "collapsed": true
   },
   "outputs": [],
   "source": [
    "independent = all_data['PCT_OBESE_ADULTS10']"
   ]
  },
  {
   "cell_type": "code",
   "execution_count": 79,
   "metadata": {},
   "outputs": [],
   "source": [
    "#dataframe to array\n",
    "y = independent.as_matrix().reshape(-1,1)\n",
    "X = dependent.as_matrix()"
   ]
  },
  {
   "cell_type": "markdown",
   "metadata": {},
   "source": [
    "## Preprocessing"
   ]
  },
  {
   "cell_type": "code",
   "execution_count": 80,
   "metadata": {},
   "outputs": [],
   "source": [
    "#impute missing values\n",
    "from sklearn.preprocessing import Imputer\n",
    "imp = Imputer(missing_values='NaN',strategy='mean',axis=0)\n",
    "imp.fit(y)\n",
    "y = imp.transform(y)"
   ]
  },
  {
   "cell_type": "code",
   "execution_count": 81,
   "metadata": {},
   "outputs": [],
   "source": [
    "imp.fit(X)\n",
    "X = imp.transform(X)"
   ]
  },
  {
   "cell_type": "code",
   "execution_count": 82,
   "metadata": {
    "collapsed": true
   },
   "outputs": [],
   "source": [
    "#scale the data\n",
    "from sklearn.preprocessing import scale\n",
    "X_scaled = scale(X)"
   ]
  },
  {
   "cell_type": "markdown",
   "metadata": {},
   "source": [
    "## Initial Regression"
   ]
  },
  {
   "cell_type": "code",
   "execution_count": 101,
   "metadata": {},
   "outputs": [
    {
     "data": {
      "text/plain": [
       "-2.0310407762164576e+22"
      ]
     },
     "execution_count": 101,
     "metadata": {},
     "output_type": "execute_result"
    }
   ],
   "source": [
    "from sklearn import linear_model\n",
    "from sklearn.model_selection import cross_val_score\n",
    "\n",
    "reg = linear_model.LinearRegression()\n",
    "cv5_results = cross_val_score(reg,X_scaled,y,cv=5)\n",
    "cv5_results.mean()"
   ]
  },
  {
   "cell_type": "code",
   "execution_count": 102,
   "metadata": {},
   "outputs": [
    {
     "data": {
      "text/plain": [
       "0.47308764099653827"
      ]
     },
     "execution_count": 102,
     "metadata": {},
     "output_type": "execute_result"
    }
   ],
   "source": [
    "cv10_results = cross_val_score(reg,X_scaled,y,cv=10)\n",
    "cv10_results.mean()"
   ]
  },
  {
   "cell_type": "code",
   "execution_count": 103,
   "metadata": {},
   "outputs": [
    {
     "data": {
      "text/plain": [
       "0.74837592520720075"
      ]
     },
     "execution_count": 103,
     "metadata": {},
     "output_type": "execute_result"
    }
   ],
   "source": [
    "cv15_results = cross_val_score(reg,X_scaled,y,cv=15)\n",
    "cv15_results.mean()"
   ]
  },
  {
   "cell_type": "code",
   "execution_count": 104,
   "metadata": {},
   "outputs": [
    {
     "data": {
      "text/plain": [
       "0.76907274000987269"
      ]
     },
     "execution_count": 104,
     "metadata": {},
     "output_type": "execute_result"
    }
   ],
   "source": [
    "cv20_results = cross_val_score(reg,X_scaled,y,cv=20)\n",
    "cv20_results.mean()"
   ]
  },
  {
   "cell_type": "code",
   "execution_count": null,
   "metadata": {
    "collapsed": true
   },
   "outputs": [],
   "source": []
  }
 ],
 "metadata": {
  "kernelspec": {
   "display_name": "Python 3",
   "language": "python",
   "name": "python3"
  },
  "language_info": {
   "codemirror_mode": {
    "name": "ipython",
    "version": 3
   },
   "file_extension": ".py",
   "mimetype": "text/x-python",
   "name": "python",
   "nbconvert_exporter": "python",
   "pygments_lexer": "ipython3",
   "version": "3.6.1"
  }
 },
 "nbformat": 4,
 "nbformat_minor": 2
}
