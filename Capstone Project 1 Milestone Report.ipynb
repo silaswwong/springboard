{
 "cells": [
  {
   "cell_type": "markdown",
   "metadata": {},
   "source": [
    "## I. Problem"
   ]
  },
  {
   "cell_type": "markdown",
   "metadata": {},
   "source": [
    "The National Institutes of Health (NIH) estimates that there are about 300,000 obesity related deaths in the United States each year. This places obesity as the second leading cause of preventable deaths in the U.S. According to the CDC, people who have obesity are at increased risk for hypertension, type 2 diabetes, corornary heart disease, stroke, gallbladder disease, osteoarthritis, sleep apnea, clinical depression, and anxiety. \n",
    "\n",
    "The economic cost of obesity is significant. The most apparent ecomomic cost of obesity are the health care costs of obesity. In a study conducted by Cawley and Meyerhoefer, the estimated yearly health care cost for treating obesity-related disease in the U.S. amounted to 190.2 billion dollars, 21 percent of yearly medical spend. In addition to the direct health care costs of obesity are the hidden costs of obesity. According to Cawley, businesses lose 4.3 billion dollars each year due to obesity-related job absenteeism. \n",
    "\n",
    "The obesity epidemic in the U.S. is clearly a significant problem that needs to be solved. Like so many pressing issues, there are many underlying factors that contribute to the obesity epidemic. Given the immense cost measured in dollars and quality of life that obesity has on the U.S., it is pertinent to identify the top indicators of obesity and direct resources to those indicators to combat the obesity epidemic as quickly and effectively as possible. \n",
    "\n",
    "In addition to identifying top indicators, I want to predict areas of the country that will see higher rates of obesity in order to funnel resources to these areas to prevent obesity rates from increasing further. \n"
   ]
  },
  {
   "cell_type": "markdown",
   "metadata": {},
   "source": [
    "## II. Stakeholders"
   ]
  },
  {
   "cell_type": "markdown",
   "metadata": {},
   "source": [
    "Politicians are my primary audience. I can uncover the top indicators of obesity. I can predict where in the country that obesity will hit hardest. But mere knowledge of these things will not reduce the obesity epidemic and the problems that come with it. Politicians must act on this knowledge and that begins with directing resources towards areas where we can have the most impact in combating obesity epidemic."
   ]
  },
  {
   "cell_type": "markdown",
   "metadata": {},
   "source": [
    "## III. Data"
   ]
  },
  {
   "cell_type": "markdown",
   "metadata": {},
   "source": [
    "I am using the Food Environment Atlas data set. The Food Environment Atlas comprises of over 275 indicators. These indicators are grouped by general categories of access, assistance, health, insecurity, local, prices, restaurants, stores, and socioeconomic variables. Each indicator is available down to the county level.\n",
    "\n",
    "The data set is contained within an excel file with each of the general categories as a separate sheet. Each sheet had FIPS, State and County columns so I was able to merge each sheet based on these three columns to create one dataframe with every indicator. \n",
    "\n",
    "After merging, I found that there were 78 rows that had a blank value for County. On closer inspection, I realized that these 78 rows had the actual county placed into the State column. It turns out that these 78 counties were the counties of Puerto Rico (Puerto Rico has 78 counties). I dropped these rows by only including rows in my dataframe that contained a value for the County column. \n",
    "\n",
    "After dropping the counties from Puerto Rico, I found 34 rows that had over 100 NaN values. I felt that 34 rows was not a significant number so I dropped these rows from my dataframe as well."
   ]
  },
  {
   "cell_type": "markdown",
   "metadata": {},
   "source": [
    "## IV. Initial Findings"
   ]
  },
  {
   "cell_type": "markdown",
   "metadata": {},
   "source": [
    "During my visual exploratory data analysis, I uncovered initial insights and areas for further analysis. There was a strong visual relationship between adult obesity rate and eligibility into the free lunch program. There was also a strong relationship between adult obesity rate and food stamp usage. I also found that there appeared to be differences in the strength of the relationship between adult obesity and food stamp usage when segmenting out whether the particular county is part of a metro region or not. \n",
    "\n",
    "The above visual inspection led me to explore these areas during my statistical exploratory data analysis. I calculated the correlation between adult obesity rate and free lunch eligibility. The coefficient here was .49. I also calculated the correlation between adult obesity rate and food stamp usage. The coefficient here was .39. Given that free lunch eligibility and food stamp usage are related to an underlying variable of income, I also calculated the correlation between free lunch eligibility and food stamp usage. The coefficient was .66.\n",
    "\n",
    "I tested whether the mean obesity rate differed between counties that were in metro regions versus counties that are not in metro regions. I conducted a difference of means test using 10,000 bootstrapping trials. Under the assumption that the mean obesity rate for metro and non metro counties were the same, I ended up with zero results as extreme as the observed difference. There is sufficient evidence to suggest that non metro counties have a higher mean obesity rate than the obesity rate of metro counties.  "
   ]
  }
 ],
 "metadata": {
  "kernelspec": {
   "display_name": "Python 3",
   "language": "python",
   "name": "python3"
  },
  "language_info": {
   "codemirror_mode": {
    "name": "ipython",
    "version": 3
   },
   "file_extension": ".py",
   "mimetype": "text/x-python",
   "name": "python",
   "nbconvert_exporter": "python",
   "pygments_lexer": "ipython3",
   "version": "3.6.1"
  }
 },
 "nbformat": 4,
 "nbformat_minor": 2
}
