{
 "cells": [
  {
   "cell_type": "markdown",
   "metadata": {},
   "source": [
    "## I. Problem"
   ]
  },
  {
   "cell_type": "markdown",
   "metadata": {},
   "source": [
    "The National Institutes of Health (NIH) estimates that there are about 300,000 obesity related deaths in the United States each year. This places obesity as the second leading cause of preventable deaths in the U.S. According to the CDC, people who have obesity are at increased risk for hypertension, type 2 diabetes, corornary heart disease, stroke, gallbladder disease, osteoarthritis, sleep apnea, clinical depression, and anxiety.\n",
    "\n",
    "The economic cost of obesity is significant. The most apparent ecomomic cost of obesity are the health care costs of obesity. In a study conducted by Cawley and Meyerhoefer, the estimated yearly health care cost for treating obesity-related disease in the U.S. amounted to 190.2 billion dollars, 21 percent of yearly medical spend. In addition to the direct health care costs of obesity are the hidden costs of obesity. According to Cawley, businesses lose 4.3 billion dollars each year due to obesity-related job absenteeism.\n",
    "\n",
    "The obesity epidemic in the U.S. is clearly a significant problem that needs to be solved. Like so many pressing issues, there are many underlying factors that contribute to the obesity epidemic. Given the immense cost measured in dollars and quality of life that obesity has on the U.S., it is pertinent to identify the top indicators of obesity and direct resources to those indicators to combat the obesity epidemic as quickly and effectively as possible.\n",
    "\n",
    "In addition to identifying top indicators, I want to predict areas of the country that will see higher rates of obesity in order to funnel resources to these areas to prevent obesity rates from increasing further."
   ]
  },
  {
   "cell_type": "markdown",
   "metadata": {},
   "source": [
    "## II. Stakeholders"
   ]
  },
  {
   "cell_type": "markdown",
   "metadata": {},
   "source": [
    "Politicians are my primary audience. I can uncover the top indicators of obesity. I can predict where in the country that obesity will hit hardest. But mere knowledge of these things will not reduce the obesity epidemic and the problems that come with it. Politicians must act on this knowledge and that begins with directing resources towards areas where we can have the most impact in combating obesity epidemic."
   ]
  },
  {
   "cell_type": "markdown",
   "metadata": {},
   "source": [
    "## III. Data"
   ]
  },
  {
   "cell_type": "markdown",
   "metadata": {},
   "source": [
    "I am using the Food Environment Atlas data set. The Food Environment Atlas comprises of over 275 indicators. These indicators are grouped by general categories of access, assistance, health, insecurity, local, prices, restaurants, stores, and socioeconomic variables. Each indicator is available down to the county level.\n",
    "\n",
    "The data set is contained within an excel file with each of the general categories as a separate sheet. Each sheet had FIPS, State and County columns so I was able to merge each sheet based on these three columns to create one dataframe with every indicator. "
   ]
  },
  {
   "cell_type": "markdown",
   "metadata": {},
   "source": [
    "## IV. Wrangling"
   ]
  },
  {
   "attachments": {},
   "cell_type": "markdown",
   "metadata": {},
   "source": [
    "Before merging the sheets, I realized that certain variables contained exactly the same information. For example, LACCESS_POP10 and PCT_LACCESS_POP10 both contain data about population with low access to stores in 2010. Specifically, LACCESS_POP10 describes the quantity of people within a county that has low access to stores in 2010 and PCT_LACCESS_POP10 describes the percentage of people within a county that has low access to stores in 2010. Because the quantity and percentage both describe the same data, both were highly correlated. For consistency, for all the variables that had both quantity and percentage data, I dropped the quantity variable.  \n",
    "\n",
    "In addition to these variables, the dataset contained a percent change variables. I decided to drop these calculated columns because they were highly correlated with the columns from which the calculation was derived from. For example, GROC07 describes the quantity of grocery stores within a county in 2007, GROC12 describes the quantity of grocery stores within a county in 2012, and PCH_GROC_07_12 describes the percent change in the number of grocery stores within a county between 2007 and 2012.\n",
    "\n",
    "The data also contained other calculated variables, which I also dropped. For example, MILK_SODA_PRICE10 is the ratio of variables MILK_PRICE10 and SODA_PRICE10. \n",
    "\n",
    "After dropping highly correlated variables, I inspected each sheet for missing variables. In the LOCAL sheet, 21 out of the 49 variables had 30% or more missing values. Due to the volume of missing values just from this one sheet, I decided not to merge this sheet with the rest of the data.\n",
    "\n",
    "Next, I found six instances of <Null> within my data. I substituted these for zero. I combed through each noncategorical variable to see if a zero made sense. I realized that a zero value for each variable did not make sense. So for all noncategorical variables, I replaced all zeros with NaN.\n",
    "\n",
    "I separated the dependent variable, PCT_OBESE_ADULTS10 (adult obesity rate within each county), from the independent variables and transformed them into arrays.  "
   ]
  },
  {
   "cell_type": "markdown",
   "metadata": {},
   "source": [
    "## V. Visual EDA"
   ]
  },
  {
   "cell_type": "markdown",
   "metadata": {},
   "source": [
    "From looking at both the histogram and the violin plot, the median percentage of obese adults by county is about 31%. The the county with the smallest percentage of obese adults had a percentage of about 11% and the county with the largest percentage of obese adults had a percentage of about 50%.\n",
    "\n",
    "My prior studies of food deserts lead me to hypothesize that counties with less access to stores is related to increase proportions of adult obesity. I visualize the percentage of low income and low access to stores against percentage adult obesity. This plot does not show a significant relationship between the percentage of low income and low access to stores and percentage adult obesity. \n",
    "\n",
    "Access to stores may not be the best measure across the entire country since there may be a signficant difference between urban and rural counties. I want differentiate the data by urban and rural counties. Upon visual inspection, there still isn't strong visual evidence that there is a relationship between access to stores and proportion of adult obesity. My previous studies about food deserts focused on lack of grocery stores, not stores in general. The variable in this low access to stores is not just grocery stores, but all stores in general. \n",
    "\n",
    "Let's take a look at the number of grocery stores per 1000 people against the adult obesity rate. Still no strong visual evidence that more grocery stores per 1000 people results in lower adult obesity rate.\n",
    "\n",
    "Another variable that may be interesting to plot against adult obesity is percentage of students in county who recieve free lunch at school. This metric is directly related to income and generally, lower income populations are more likely to become obese. The visualization shows a strong relationship between percentage of students receiving free lunch at school and the adult obesity rate.\n",
    "\n",
    "I want to see how rural and urban counties differ. There is no significant difference when segmenting by rural or urban.\n",
    "\n",
    "Another variable directly related to income is the percentage of the population that use food stamps. I plot percentage of county using food stamps vs adult obesity rate. There does appear to be a relationship between percentage of population using food stamps and the adult obesity rate in that county. Let's see if there is a difference in rural and urban populations.\n",
    "\n",
    "\n",
    "There is a slight difference when segmenting by rural and urban. There appears to be a slightly stronger relationship between food stamps and adult obesity in metro counties vs rural counties."
   ]
  },
  {
   "cell_type": "markdown",
   "metadata": {},
   "source": [
    "## VI. Statistical EDA"
   ]
  },
  {
   "cell_type": "markdown",
   "metadata": {},
   "source": [
    "During my visual exploratory data analysis, I found that there was a significant relationship between the percentage of the county that were eligible for free lunch and the percentage of adults who were obese within that county. I want to quantify how signficant this relationship is.\n",
    "\n",
    "The pearson correlation coefficient between adult obesity rate and percentage of free lunch eligibility is .49.\n",
    "\n",
    "Another significant relationship I discovered during visual EDA was percentage of the population using food stamps and adult obesity rate. I also want to quantify how significant this relationship is.\n",
    "\n",
    "The pearson correlation coefficient between adult obesity rate and percentage population using food stamps is .45.\n",
    "\n",
    "I am interested to see the relationship between food stamps and free lunch.\n",
    "\n",
    "The pearson correlation coefficient between food stamps and free lunch is .51.\n",
    "\n",
    "Another variable that proved interesting during my visual EDA was whether the county was part of a metro area or not. I want to test if there is a difference in the mean rate of obesity between a metro county and not a metro county.\n",
    "\n",
    "null: The mean rate of obesity between metro county and not a metro county are the same\n",
    "\n",
    "I assumed the mean obesity rate in metro and non metro counties were the same. Under this assumption, out of 10,000 trials, none were as extreme as the observed difference of means. Therefore, there is evidence to suggest that the mean obesity rate is different."
   ]
  },
  {
   "cell_type": "markdown",
   "metadata": {},
   "source": [
    "## VII. Preprocessing"
   ]
  },
  {
   "cell_type": "markdown",
   "metadata": {},
   "source": [
    "I replaced each missing value with the median value of the respective column. Next, I scaled each column."
   ]
  },
  {
   "cell_type": "markdown",
   "metadata": {},
   "source": [
    "## VIII. Machine Learning"
   ]
  },
  {
   "cell_type": "markdown",
   "metadata": {},
   "source": [
    "I set aside a portion of the data to use as unseen test data.\n",
    "\n",
    "I calculate the mean obesity rate to test against my model. \n",
    "\n",
    "I run an initial linear regression using 10-fold cross validation and get a mean r-squared score of .739.\n",
    "\n",
    "Next, I select the best 15 features using feature selection. The 15 variables from feature selection include PCT_SNAP09, PC_SNAPBEN08, PC_SNAPBEN10, PCT_NSLP09,\n",
    "       PCT_NSLP14, PCT_FREE_LUNCH06, PCT_FREE_LUNCH10, PC_FSRSALES02,\n",
    "       PC_FSRSALES07, PCT_NHBLACK10, MEDHHINC10, POVRATE10,\n",
    "       CHILDPOVRATE10, PCT_DIABETES_ADULTS09 and PCT_DIABETES_ADULTS10.\n",
    "       \n",
    "Running the regression again using 10-fold cross validation with the 15 features, I get a mean r-squared score of .630. \n",
    "\n",
    "Looking at the 15 features, there may be variables that are highly correlated, which is why the r-squared using the 15 features in the initial regression model is less than the regression model using all features.\n",
    "\n",
    "I run VIF analysis on the 15 features and drop variables with a high VIF factor. For variables that quantify the same information over a different date range (for example PCT_NSLP09 and PCT_NSLP14) I choose the variable that is closest to 2010 since that is the date the obesity rate data is from. I end up dropping PC_SNAPBEN08, PCT_NSLP14, PCT_FREE_LUNCH06, PC_FSRSALES02, CHILDPOVRATE10 and PCT_DIABETES_ADULTS09.\n",
    "\n",
    "Next, I run a ridge regression using the selected features from the VIF analysis. I tune the alpha and find that alpha = 10 produces the best model with an r-squared of .743, an improvement on the initial regression with all features. \n",
    "\n",
    "Wanting to further improve the model, I create a gradient boosting model with the VIF selected features. I tune max_depth and n_paramenters and find that max_depth = 3 and n_parameters = 144 produces the best model with an r-squared score of .753, further improvement on the ridge regression using the VIF selected features.\n",
    "\n",
    "I further tune my model trying larger n_parameters and different learning rates. However, there is no further improvement with tuning a different learning rate since the new model resulted in the same learning rate as the previous model's default learning rate with no improvment in r-squared. In fact, the original model with n_parameters = 144 produced a better result than the second gradient boosting model with n_parameters = 150. \n",
    "\n",
    "I score the model using the unseen test data and get an r-squared score of .780. \n",
    "I also calculate the r square value for the mean obesity rate and y_test data points. This represents my benchmark score if we leave predicting obesity rates to chance. The r squared score using this method is -1.46E30."
   ]
  },
  {
   "cell_type": "markdown",
   "metadata": {},
   "source": [
    "## Predictive Application"
   ]
  },
  {
   "attachments": {},
   "cell_type": "markdown",
   "metadata": {},
   "source": [
    "The features used in my model to predict 2010 adult obesity rates by county were:\n",
    "    SNAP participants (% pop), 2009;\n",
    "    SNAP benefits per capita, 2010;\n",
    "    National School Lunch Program participants (% pop), 2009;\n",
    "    Students eligible for free lunch (%), 2010;\n",
    "    Expenditures per capita, restaurants, 2007;\n",
    "    Poverty rate, 2010;\n",
    "    % Black, 2010;\n",
    "    Median household income, 2010;\n",
    "    Adult diabetes rate, 2010.\n",
    "    \n",
    "All variables except adult diabtes rate and expenditures per capita restaurants are relatively easy to access every year from government databases. This model can be revised to only include those variables that are easy to access from existing datbases to predict adult obesity rates. Using this model can accurately predict obesity rates at the county level without having to take sample surveys of the population, which can be both expensive, time consuming, and biased. In addition, with the model, we can have up to date obesity rates each year after updating the model with new feature data.  "
   ]
  },
  {
   "cell_type": "markdown",
   "metadata": {},
   "source": [
    "## Recommendations"
   ]
  },
  {
   "cell_type": "markdown",
   "metadata": {},
   "source": [
    "Six of the nine variables in my model used to predict adult obesity rates by county are related to income. Two of these five variables are related to foods consumed in school.\n",
    "\n",
    "In orer to curb the growth of adult obesity rate (in the goal of one day reversing obesity rates) I recommend the following:\n",
    "\n",
    "Recommendation 1\n",
    "\n",
    "We need to overhaul the public school lunch program by offering healthy lunches. \n",
    "While you may argue that creating healthier lunch program for our children won't affect current adult obesity rates since those adults won't be eating the healthier foods, our goal here is long term. If we instill better eating habits in our school children, healthy eating becomes normal. Children may start to question the eating habits of their parents and in turn parents may provide healthier meals for their themselves and their family. \n",
    "\n",
    "Recommendation 2\n",
    "\n",
    "We need to make healthy food (fresh fruits and vegetables) more accessible and affordable in communities with high poverty rates. Even if we do change the mindset of our school children to eat healthily, often times this just isn't possible. We need to make it as easy as possible for all impoverished communities to be able to purchase and enjoy healthy food."
   ]
  }
 ],
 "metadata": {
  "kernelspec": {
   "display_name": "Python 3",
   "language": "python",
   "name": "python3"
  },
  "language_info": {
   "codemirror_mode": {
    "name": "ipython",
    "version": 3
   },
   "file_extension": ".py",
   "mimetype": "text/x-python",
   "name": "python",
   "nbconvert_exporter": "python",
   "pygments_lexer": "ipython3",
   "version": "3.6.1"
  }
 },
 "nbformat": 4,
 "nbformat_minor": 2
}
